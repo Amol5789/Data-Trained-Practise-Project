{
 "cells": [
  {
   "cell_type": "code",
   "execution_count": 1,
   "metadata": {},
   "outputs": [],
   "source": [
    "# import necessary libraries\n",
    "import pandas as pd\n",
    "import numpy as np\n",
    "import matplotlib.pyplot as plt\n",
    "import seaborn as sns\n",
    "import warnings\n",
    "warnings.filterwarnings('ignore')"
   ]
  },
  {
   "cell_type": "code",
   "execution_count": 2,
   "metadata": {},
   "outputs": [
    {
     "data": {
      "text/html": [
       "<div>\n",
       "<style scoped>\n",
       "    .dataframe tbody tr th:only-of-type {\n",
       "        vertical-align: middle;\n",
       "    }\n",
       "\n",
       "    .dataframe tbody tr th {\n",
       "        vertical-align: top;\n",
       "    }\n",
       "\n",
       "    .dataframe thead th {\n",
       "        text-align: right;\n",
       "    }\n",
       "</style>\n",
       "<table border=\"1\" class=\"dataframe\">\n",
       "  <thead>\n",
       "    <tr style=\"text-align: right;\">\n",
       "      <th></th>\n",
       "      <th>Country</th>\n",
       "      <th>Region</th>\n",
       "      <th>Happiness Rank</th>\n",
       "      <th>Happiness Score</th>\n",
       "      <th>Standard Error</th>\n",
       "      <th>Economy (GDP per Capita)</th>\n",
       "      <th>Family</th>\n",
       "      <th>Health (Life Expectancy)</th>\n",
       "      <th>Freedom</th>\n",
       "      <th>Trust (Government Corruption)</th>\n",
       "      <th>Generosity</th>\n",
       "      <th>Dystopia Residual</th>\n",
       "    </tr>\n",
       "  </thead>\n",
       "  <tbody>\n",
       "    <tr>\n",
       "      <th>0</th>\n",
       "      <td>Switzerland</td>\n",
       "      <td>Western Europe</td>\n",
       "      <td>1</td>\n",
       "      <td>7.587</td>\n",
       "      <td>0.03411</td>\n",
       "      <td>1.39651</td>\n",
       "      <td>1.34951</td>\n",
       "      <td>0.94143</td>\n",
       "      <td>0.66557</td>\n",
       "      <td>0.41978</td>\n",
       "      <td>0.29678</td>\n",
       "      <td>2.51738</td>\n",
       "    </tr>\n",
       "    <tr>\n",
       "      <th>1</th>\n",
       "      <td>Iceland</td>\n",
       "      <td>Western Europe</td>\n",
       "      <td>2</td>\n",
       "      <td>7.561</td>\n",
       "      <td>0.04884</td>\n",
       "      <td>1.30232</td>\n",
       "      <td>1.40223</td>\n",
       "      <td>0.94784</td>\n",
       "      <td>0.62877</td>\n",
       "      <td>0.14145</td>\n",
       "      <td>0.43630</td>\n",
       "      <td>2.70201</td>\n",
       "    </tr>\n",
       "    <tr>\n",
       "      <th>2</th>\n",
       "      <td>Denmark</td>\n",
       "      <td>Western Europe</td>\n",
       "      <td>3</td>\n",
       "      <td>7.527</td>\n",
       "      <td>0.03328</td>\n",
       "      <td>1.32548</td>\n",
       "      <td>1.36058</td>\n",
       "      <td>0.87464</td>\n",
       "      <td>0.64938</td>\n",
       "      <td>0.48357</td>\n",
       "      <td>0.34139</td>\n",
       "      <td>2.49204</td>\n",
       "    </tr>\n",
       "    <tr>\n",
       "      <th>3</th>\n",
       "      <td>Norway</td>\n",
       "      <td>Western Europe</td>\n",
       "      <td>4</td>\n",
       "      <td>7.522</td>\n",
       "      <td>0.03880</td>\n",
       "      <td>1.45900</td>\n",
       "      <td>1.33095</td>\n",
       "      <td>0.88521</td>\n",
       "      <td>0.66973</td>\n",
       "      <td>0.36503</td>\n",
       "      <td>0.34699</td>\n",
       "      <td>2.46531</td>\n",
       "    </tr>\n",
       "    <tr>\n",
       "      <th>4</th>\n",
       "      <td>Canada</td>\n",
       "      <td>North America</td>\n",
       "      <td>5</td>\n",
       "      <td>7.427</td>\n",
       "      <td>0.03553</td>\n",
       "      <td>1.32629</td>\n",
       "      <td>1.32261</td>\n",
       "      <td>0.90563</td>\n",
       "      <td>0.63297</td>\n",
       "      <td>0.32957</td>\n",
       "      <td>0.45811</td>\n",
       "      <td>2.45176</td>\n",
       "    </tr>\n",
       "    <tr>\n",
       "      <th>...</th>\n",
       "      <td>...</td>\n",
       "      <td>...</td>\n",
       "      <td>...</td>\n",
       "      <td>...</td>\n",
       "      <td>...</td>\n",
       "      <td>...</td>\n",
       "      <td>...</td>\n",
       "      <td>...</td>\n",
       "      <td>...</td>\n",
       "      <td>...</td>\n",
       "      <td>...</td>\n",
       "      <td>...</td>\n",
       "    </tr>\n",
       "    <tr>\n",
       "      <th>153</th>\n",
       "      <td>Rwanda</td>\n",
       "      <td>Sub-Saharan Africa</td>\n",
       "      <td>154</td>\n",
       "      <td>3.465</td>\n",
       "      <td>0.03464</td>\n",
       "      <td>0.22208</td>\n",
       "      <td>0.77370</td>\n",
       "      <td>0.42864</td>\n",
       "      <td>0.59201</td>\n",
       "      <td>0.55191</td>\n",
       "      <td>0.22628</td>\n",
       "      <td>0.67042</td>\n",
       "    </tr>\n",
       "    <tr>\n",
       "      <th>154</th>\n",
       "      <td>Benin</td>\n",
       "      <td>Sub-Saharan Africa</td>\n",
       "      <td>155</td>\n",
       "      <td>3.340</td>\n",
       "      <td>0.03656</td>\n",
       "      <td>0.28665</td>\n",
       "      <td>0.35386</td>\n",
       "      <td>0.31910</td>\n",
       "      <td>0.48450</td>\n",
       "      <td>0.08010</td>\n",
       "      <td>0.18260</td>\n",
       "      <td>1.63328</td>\n",
       "    </tr>\n",
       "    <tr>\n",
       "      <th>155</th>\n",
       "      <td>Syria</td>\n",
       "      <td>Middle East and Northern Africa</td>\n",
       "      <td>156</td>\n",
       "      <td>3.006</td>\n",
       "      <td>0.05015</td>\n",
       "      <td>0.66320</td>\n",
       "      <td>0.47489</td>\n",
       "      <td>0.72193</td>\n",
       "      <td>0.15684</td>\n",
       "      <td>0.18906</td>\n",
       "      <td>0.47179</td>\n",
       "      <td>0.32858</td>\n",
       "    </tr>\n",
       "    <tr>\n",
       "      <th>156</th>\n",
       "      <td>Burundi</td>\n",
       "      <td>Sub-Saharan Africa</td>\n",
       "      <td>157</td>\n",
       "      <td>2.905</td>\n",
       "      <td>0.08658</td>\n",
       "      <td>0.01530</td>\n",
       "      <td>0.41587</td>\n",
       "      <td>0.22396</td>\n",
       "      <td>0.11850</td>\n",
       "      <td>0.10062</td>\n",
       "      <td>0.19727</td>\n",
       "      <td>1.83302</td>\n",
       "    </tr>\n",
       "    <tr>\n",
       "      <th>157</th>\n",
       "      <td>Togo</td>\n",
       "      <td>Sub-Saharan Africa</td>\n",
       "      <td>158</td>\n",
       "      <td>2.839</td>\n",
       "      <td>0.06727</td>\n",
       "      <td>0.20868</td>\n",
       "      <td>0.13995</td>\n",
       "      <td>0.28443</td>\n",
       "      <td>0.36453</td>\n",
       "      <td>0.10731</td>\n",
       "      <td>0.16681</td>\n",
       "      <td>1.56726</td>\n",
       "    </tr>\n",
       "  </tbody>\n",
       "</table>\n",
       "<p>158 rows × 12 columns</p>\n",
       "</div>"
      ],
      "text/plain": [
       "         Country                           Region  Happiness Rank  \\\n",
       "0    Switzerland                   Western Europe               1   \n",
       "1        Iceland                   Western Europe               2   \n",
       "2        Denmark                   Western Europe               3   \n",
       "3         Norway                   Western Europe               4   \n",
       "4         Canada                    North America               5   \n",
       "..           ...                              ...             ...   \n",
       "153       Rwanda               Sub-Saharan Africa             154   \n",
       "154        Benin               Sub-Saharan Africa             155   \n",
       "155        Syria  Middle East and Northern Africa             156   \n",
       "156      Burundi               Sub-Saharan Africa             157   \n",
       "157         Togo               Sub-Saharan Africa             158   \n",
       "\n",
       "     Happiness Score  Standard Error  Economy (GDP per Capita)   Family  \\\n",
       "0              7.587         0.03411                   1.39651  1.34951   \n",
       "1              7.561         0.04884                   1.30232  1.40223   \n",
       "2              7.527         0.03328                   1.32548  1.36058   \n",
       "3              7.522         0.03880                   1.45900  1.33095   \n",
       "4              7.427         0.03553                   1.32629  1.32261   \n",
       "..               ...             ...                       ...      ...   \n",
       "153            3.465         0.03464                   0.22208  0.77370   \n",
       "154            3.340         0.03656                   0.28665  0.35386   \n",
       "155            3.006         0.05015                   0.66320  0.47489   \n",
       "156            2.905         0.08658                   0.01530  0.41587   \n",
       "157            2.839         0.06727                   0.20868  0.13995   \n",
       "\n",
       "     Health (Life Expectancy)  Freedom  Trust (Government Corruption)  \\\n",
       "0                     0.94143  0.66557                        0.41978   \n",
       "1                     0.94784  0.62877                        0.14145   \n",
       "2                     0.87464  0.64938                        0.48357   \n",
       "3                     0.88521  0.66973                        0.36503   \n",
       "4                     0.90563  0.63297                        0.32957   \n",
       "..                        ...      ...                            ...   \n",
       "153                   0.42864  0.59201                        0.55191   \n",
       "154                   0.31910  0.48450                        0.08010   \n",
       "155                   0.72193  0.15684                        0.18906   \n",
       "156                   0.22396  0.11850                        0.10062   \n",
       "157                   0.28443  0.36453                        0.10731   \n",
       "\n",
       "     Generosity  Dystopia Residual  \n",
       "0       0.29678            2.51738  \n",
       "1       0.43630            2.70201  \n",
       "2       0.34139            2.49204  \n",
       "3       0.34699            2.46531  \n",
       "4       0.45811            2.45176  \n",
       "..          ...                ...  \n",
       "153     0.22628            0.67042  \n",
       "154     0.18260            1.63328  \n",
       "155     0.47179            0.32858  \n",
       "156     0.19727            1.83302  \n",
       "157     0.16681            1.56726  \n",
       "\n",
       "[158 rows x 12 columns]"
      ]
     },
     "execution_count": 2,
     "metadata": {},
     "output_type": "execute_result"
    }
   ],
   "source": [
    "# now import csv file\n",
    "happy=pd.read_csv(\"E:\\\\Data Science\\\\Data science Practise project\\\\happiness_score_dataset.csv\")\n",
    "happy"
   ]
  },
  {
   "cell_type": "code",
   "execution_count": 3,
   "metadata": {},
   "outputs": [
    {
     "data": {
      "text/plain": [
       "(158, 12)"
      ]
     },
     "execution_count": 3,
     "metadata": {},
     "output_type": "execute_result"
    }
   ],
   "source": [
    "# lets check shape of dataframe\n",
    "happy.shape  "
   ]
  },
  {
   "cell_type": "markdown",
   "metadata": {},
   "source": [
    "#### it has 158 rows and 12 columns"
   ]
  },
  {
   "cell_type": "code",
   "execution_count": 4,
   "metadata": {},
   "outputs": [
    {
     "name": "stdout",
     "output_type": "stream",
     "text": [
      "<class 'pandas.core.frame.DataFrame'>\n",
      "RangeIndex: 158 entries, 0 to 157\n",
      "Data columns (total 12 columns):\n",
      " #   Column                         Non-Null Count  Dtype  \n",
      "---  ------                         --------------  -----  \n",
      " 0   Country                        158 non-null    object \n",
      " 1   Region                         158 non-null    object \n",
      " 2   Happiness Rank                 158 non-null    int64  \n",
      " 3   Happiness Score                158 non-null    float64\n",
      " 4   Standard Error                 158 non-null    float64\n",
      " 5   Economy (GDP per Capita)       158 non-null    float64\n",
      " 6   Family                         158 non-null    float64\n",
      " 7   Health (Life Expectancy)       158 non-null    float64\n",
      " 8   Freedom                        158 non-null    float64\n",
      " 9   Trust (Government Corruption)  158 non-null    float64\n",
      " 10  Generosity                     158 non-null    float64\n",
      " 11  Dystopia Residual              158 non-null    float64\n",
      "dtypes: float64(9), int64(1), object(2)\n",
      "memory usage: 14.9+ KB\n"
     ]
    }
   ],
   "source": [
    "#now we will check the info of the dataframe\n",
    "happy.info()"
   ]
  },
  {
   "cell_type": "markdown",
   "metadata": {},
   "source": [
    "#### info method tell us about datatype of all feature,and Non null count also,also return total memory used"
   ]
  },
  {
   "cell_type": "code",
   "execution_count": 5,
   "metadata": {},
   "outputs": [
    {
     "data": {
      "text/plain": [
       "Country                          0\n",
       "Region                           0\n",
       "Happiness Rank                   0\n",
       "Happiness Score                  0\n",
       "Standard Error                   0\n",
       "Economy (GDP per Capita)         0\n",
       "Family                           0\n",
       "Health (Life Expectancy)         0\n",
       "Freedom                          0\n",
       "Trust (Government Corruption)    0\n",
       "Generosity                       0\n",
       "Dystopia Residual                0\n",
       "dtype: int64"
      ]
     },
     "execution_count": 5,
     "metadata": {},
     "output_type": "execute_result"
    }
   ],
   "source": [
    "happy.isnull().sum()  # to check any na value is there,here no null values is there"
   ]
  },
  {
   "cell_type": "code",
   "execution_count": 68,
   "metadata": {},
   "outputs": [
    {
     "data": {
      "text/html": [
       "<div>\n",
       "<style scoped>\n",
       "    .dataframe tbody tr th:only-of-type {\n",
       "        vertical-align: middle;\n",
       "    }\n",
       "\n",
       "    .dataframe tbody tr th {\n",
       "        vertical-align: top;\n",
       "    }\n",
       "\n",
       "    .dataframe thead th {\n",
       "        text-align: right;\n",
       "    }\n",
       "</style>\n",
       "<table border=\"1\" class=\"dataframe\">\n",
       "  <thead>\n",
       "    <tr style=\"text-align: right;\">\n",
       "      <th></th>\n",
       "      <th>Country</th>\n",
       "      <th>Region</th>\n",
       "      <th>Happiness Rank</th>\n",
       "      <th>Happiness Score</th>\n",
       "      <th>Standard Error</th>\n",
       "      <th>Economy (GDP per Capita)</th>\n",
       "      <th>Family</th>\n",
       "      <th>Health (Life Expectancy)</th>\n",
       "      <th>Freedom</th>\n",
       "      <th>Trust (Government Corruption)</th>\n",
       "      <th>Generosity</th>\n",
       "      <th>Dystopia Residual</th>\n",
       "    </tr>\n",
       "  </thead>\n",
       "  <tbody>\n",
       "  </tbody>\n",
       "</table>\n",
       "</div>"
      ],
      "text/plain": [
       "Empty DataFrame\n",
       "Columns: [Country, Region, Happiness Rank, Happiness Score, Standard Error, Economy (GDP per Capita), Family, Health (Life Expectancy), Freedom, Trust (Government Corruption), Generosity, Dystopia Residual]\n",
       "Index: []"
      ]
     },
     "execution_count": 68,
     "metadata": {},
     "output_type": "execute_result"
    }
   ],
   "source": [
    "#No null data or empty space is present in our dataset\n",
    "happy.loc[df[\"Happiness Score\"]== \" \"]  # here we check any for empty space, but no empty space all features and labels ,its good "
   ]
  },
  {
   "cell_type": "code",
   "execution_count": 6,
   "metadata": {},
   "outputs": [
    {
     "data": {
      "text/html": [
       "<div>\n",
       "<style scoped>\n",
       "    .dataframe tbody tr th:only-of-type {\n",
       "        vertical-align: middle;\n",
       "    }\n",
       "\n",
       "    .dataframe tbody tr th {\n",
       "        vertical-align: top;\n",
       "    }\n",
       "\n",
       "    .dataframe thead th {\n",
       "        text-align: right;\n",
       "    }\n",
       "</style>\n",
       "<table border=\"1\" class=\"dataframe\">\n",
       "  <thead>\n",
       "    <tr style=\"text-align: right;\">\n",
       "      <th></th>\n",
       "      <th>Happiness Rank</th>\n",
       "      <th>Happiness Score</th>\n",
       "      <th>Standard Error</th>\n",
       "      <th>Economy (GDP per Capita)</th>\n",
       "      <th>Family</th>\n",
       "      <th>Health (Life Expectancy)</th>\n",
       "      <th>Freedom</th>\n",
       "      <th>Trust (Government Corruption)</th>\n",
       "      <th>Generosity</th>\n",
       "      <th>Dystopia Residual</th>\n",
       "    </tr>\n",
       "  </thead>\n",
       "  <tbody>\n",
       "    <tr>\n",
       "      <th>count</th>\n",
       "      <td>158.000000</td>\n",
       "      <td>158.000000</td>\n",
       "      <td>158.000000</td>\n",
       "      <td>158.000000</td>\n",
       "      <td>158.000000</td>\n",
       "      <td>158.000000</td>\n",
       "      <td>158.000000</td>\n",
       "      <td>158.000000</td>\n",
       "      <td>158.000000</td>\n",
       "      <td>158.000000</td>\n",
       "    </tr>\n",
       "    <tr>\n",
       "      <th>mean</th>\n",
       "      <td>79.493671</td>\n",
       "      <td>5.375734</td>\n",
       "      <td>0.047885</td>\n",
       "      <td>0.846137</td>\n",
       "      <td>0.991046</td>\n",
       "      <td>0.630259</td>\n",
       "      <td>0.428615</td>\n",
       "      <td>0.143422</td>\n",
       "      <td>0.237296</td>\n",
       "      <td>2.098977</td>\n",
       "    </tr>\n",
       "    <tr>\n",
       "      <th>std</th>\n",
       "      <td>45.754363</td>\n",
       "      <td>1.145010</td>\n",
       "      <td>0.017146</td>\n",
       "      <td>0.403121</td>\n",
       "      <td>0.272369</td>\n",
       "      <td>0.247078</td>\n",
       "      <td>0.150693</td>\n",
       "      <td>0.120034</td>\n",
       "      <td>0.126685</td>\n",
       "      <td>0.553550</td>\n",
       "    </tr>\n",
       "    <tr>\n",
       "      <th>min</th>\n",
       "      <td>1.000000</td>\n",
       "      <td>2.839000</td>\n",
       "      <td>0.018480</td>\n",
       "      <td>0.000000</td>\n",
       "      <td>0.000000</td>\n",
       "      <td>0.000000</td>\n",
       "      <td>0.000000</td>\n",
       "      <td>0.000000</td>\n",
       "      <td>0.000000</td>\n",
       "      <td>0.328580</td>\n",
       "    </tr>\n",
       "    <tr>\n",
       "      <th>25%</th>\n",
       "      <td>40.250000</td>\n",
       "      <td>4.526000</td>\n",
       "      <td>0.037268</td>\n",
       "      <td>0.545808</td>\n",
       "      <td>0.856823</td>\n",
       "      <td>0.439185</td>\n",
       "      <td>0.328330</td>\n",
       "      <td>0.061675</td>\n",
       "      <td>0.150553</td>\n",
       "      <td>1.759410</td>\n",
       "    </tr>\n",
       "    <tr>\n",
       "      <th>50%</th>\n",
       "      <td>79.500000</td>\n",
       "      <td>5.232500</td>\n",
       "      <td>0.043940</td>\n",
       "      <td>0.910245</td>\n",
       "      <td>1.029510</td>\n",
       "      <td>0.696705</td>\n",
       "      <td>0.435515</td>\n",
       "      <td>0.107220</td>\n",
       "      <td>0.216130</td>\n",
       "      <td>2.095415</td>\n",
       "    </tr>\n",
       "    <tr>\n",
       "      <th>75%</th>\n",
       "      <td>118.750000</td>\n",
       "      <td>6.243750</td>\n",
       "      <td>0.052300</td>\n",
       "      <td>1.158448</td>\n",
       "      <td>1.214405</td>\n",
       "      <td>0.811013</td>\n",
       "      <td>0.549092</td>\n",
       "      <td>0.180255</td>\n",
       "      <td>0.309883</td>\n",
       "      <td>2.462415</td>\n",
       "    </tr>\n",
       "    <tr>\n",
       "      <th>max</th>\n",
       "      <td>158.000000</td>\n",
       "      <td>7.587000</td>\n",
       "      <td>0.136930</td>\n",
       "      <td>1.690420</td>\n",
       "      <td>1.402230</td>\n",
       "      <td>1.025250</td>\n",
       "      <td>0.669730</td>\n",
       "      <td>0.551910</td>\n",
       "      <td>0.795880</td>\n",
       "      <td>3.602140</td>\n",
       "    </tr>\n",
       "  </tbody>\n",
       "</table>\n",
       "</div>"
      ],
      "text/plain": [
       "       Happiness Rank  Happiness Score  Standard Error  \\\n",
       "count      158.000000       158.000000      158.000000   \n",
       "mean        79.493671         5.375734        0.047885   \n",
       "std         45.754363         1.145010        0.017146   \n",
       "min          1.000000         2.839000        0.018480   \n",
       "25%         40.250000         4.526000        0.037268   \n",
       "50%         79.500000         5.232500        0.043940   \n",
       "75%        118.750000         6.243750        0.052300   \n",
       "max        158.000000         7.587000        0.136930   \n",
       "\n",
       "       Economy (GDP per Capita)      Family  Health (Life Expectancy)  \\\n",
       "count                158.000000  158.000000                158.000000   \n",
       "mean                   0.846137    0.991046                  0.630259   \n",
       "std                    0.403121    0.272369                  0.247078   \n",
       "min                    0.000000    0.000000                  0.000000   \n",
       "25%                    0.545808    0.856823                  0.439185   \n",
       "50%                    0.910245    1.029510                  0.696705   \n",
       "75%                    1.158448    1.214405                  0.811013   \n",
       "max                    1.690420    1.402230                  1.025250   \n",
       "\n",
       "          Freedom  Trust (Government Corruption)  Generosity  \\\n",
       "count  158.000000                     158.000000  158.000000   \n",
       "mean     0.428615                       0.143422    0.237296   \n",
       "std      0.150693                       0.120034    0.126685   \n",
       "min      0.000000                       0.000000    0.000000   \n",
       "25%      0.328330                       0.061675    0.150553   \n",
       "50%      0.435515                       0.107220    0.216130   \n",
       "75%      0.549092                       0.180255    0.309883   \n",
       "max      0.669730                       0.551910    0.795880   \n",
       "\n",
       "       Dystopia Residual  \n",
       "count         158.000000  \n",
       "mean            2.098977  \n",
       "std             0.553550  \n",
       "min             0.328580  \n",
       "25%             1.759410  \n",
       "50%             2.095415  \n",
       "75%             2.462415  \n",
       "max             3.602140  "
      ]
     },
     "execution_count": 6,
     "metadata": {},
     "output_type": "execute_result"
    }
   ],
   "source": [
    "happy.describe()  # to diply min & max value of numerical columns only,we use this command"
   ]
  },
  {
   "cell_type": "markdown",
   "metadata": {},
   "source": [
    "##### here our data has label \"Happiness Score\" our label which is continous type data .so it is linear regression problem .since \"standard error\" and \"Dystopia Residual\" cannot be the feature to calculate the happiness score,so drop these features .in above report column \"Economy\",\"family\",\"Health\",\"Freedom\",\"Trust\" & \"Generosity\" represents minimum 0 value, which is impossible in practical ,so we fill this value  by observing its distribution curve"
   ]
  },
  {
   "cell_type": "code",
   "execution_count": 7,
   "metadata": {},
   "outputs": [
    {
     "data": {
      "text/html": [
       "<div>\n",
       "<style scoped>\n",
       "    .dataframe tbody tr th:only-of-type {\n",
       "        vertical-align: middle;\n",
       "    }\n",
       "\n",
       "    .dataframe tbody tr th {\n",
       "        vertical-align: top;\n",
       "    }\n",
       "\n",
       "    .dataframe thead th {\n",
       "        text-align: right;\n",
       "    }\n",
       "</style>\n",
       "<table border=\"1\" class=\"dataframe\">\n",
       "  <thead>\n",
       "    <tr style=\"text-align: right;\">\n",
       "      <th></th>\n",
       "      <th>Country</th>\n",
       "      <th>Happiness Score</th>\n",
       "      <th>Economy (GDP per Capita)</th>\n",
       "      <th>Family</th>\n",
       "      <th>Health (Life Expectancy)</th>\n",
       "      <th>Freedom</th>\n",
       "      <th>Trust (Government Corruption)</th>\n",
       "      <th>Generosity</th>\n",
       "    </tr>\n",
       "  </thead>\n",
       "  <tbody>\n",
       "    <tr>\n",
       "      <th>0</th>\n",
       "      <td>Switzerland</td>\n",
       "      <td>7.587</td>\n",
       "      <td>1.39651</td>\n",
       "      <td>1.34951</td>\n",
       "      <td>0.94143</td>\n",
       "      <td>0.66557</td>\n",
       "      <td>0.41978</td>\n",
       "      <td>0.29678</td>\n",
       "    </tr>\n",
       "    <tr>\n",
       "      <th>1</th>\n",
       "      <td>Iceland</td>\n",
       "      <td>7.561</td>\n",
       "      <td>1.30232</td>\n",
       "      <td>1.40223</td>\n",
       "      <td>0.94784</td>\n",
       "      <td>0.62877</td>\n",
       "      <td>0.14145</td>\n",
       "      <td>0.43630</td>\n",
       "    </tr>\n",
       "    <tr>\n",
       "      <th>2</th>\n",
       "      <td>Denmark</td>\n",
       "      <td>7.527</td>\n",
       "      <td>1.32548</td>\n",
       "      <td>1.36058</td>\n",
       "      <td>0.87464</td>\n",
       "      <td>0.64938</td>\n",
       "      <td>0.48357</td>\n",
       "      <td>0.34139</td>\n",
       "    </tr>\n",
       "    <tr>\n",
       "      <th>3</th>\n",
       "      <td>Norway</td>\n",
       "      <td>7.522</td>\n",
       "      <td>1.45900</td>\n",
       "      <td>1.33095</td>\n",
       "      <td>0.88521</td>\n",
       "      <td>0.66973</td>\n",
       "      <td>0.36503</td>\n",
       "      <td>0.34699</td>\n",
       "    </tr>\n",
       "    <tr>\n",
       "      <th>4</th>\n",
       "      <td>Canada</td>\n",
       "      <td>7.427</td>\n",
       "      <td>1.32629</td>\n",
       "      <td>1.32261</td>\n",
       "      <td>0.90563</td>\n",
       "      <td>0.63297</td>\n",
       "      <td>0.32957</td>\n",
       "      <td>0.45811</td>\n",
       "    </tr>\n",
       "    <tr>\n",
       "      <th>...</th>\n",
       "      <td>...</td>\n",
       "      <td>...</td>\n",
       "      <td>...</td>\n",
       "      <td>...</td>\n",
       "      <td>...</td>\n",
       "      <td>...</td>\n",
       "      <td>...</td>\n",
       "      <td>...</td>\n",
       "    </tr>\n",
       "    <tr>\n",
       "      <th>153</th>\n",
       "      <td>Rwanda</td>\n",
       "      <td>3.465</td>\n",
       "      <td>0.22208</td>\n",
       "      <td>0.77370</td>\n",
       "      <td>0.42864</td>\n",
       "      <td>0.59201</td>\n",
       "      <td>0.55191</td>\n",
       "      <td>0.22628</td>\n",
       "    </tr>\n",
       "    <tr>\n",
       "      <th>154</th>\n",
       "      <td>Benin</td>\n",
       "      <td>3.340</td>\n",
       "      <td>0.28665</td>\n",
       "      <td>0.35386</td>\n",
       "      <td>0.31910</td>\n",
       "      <td>0.48450</td>\n",
       "      <td>0.08010</td>\n",
       "      <td>0.18260</td>\n",
       "    </tr>\n",
       "    <tr>\n",
       "      <th>155</th>\n",
       "      <td>Syria</td>\n",
       "      <td>3.006</td>\n",
       "      <td>0.66320</td>\n",
       "      <td>0.47489</td>\n",
       "      <td>0.72193</td>\n",
       "      <td>0.15684</td>\n",
       "      <td>0.18906</td>\n",
       "      <td>0.47179</td>\n",
       "    </tr>\n",
       "    <tr>\n",
       "      <th>156</th>\n",
       "      <td>Burundi</td>\n",
       "      <td>2.905</td>\n",
       "      <td>0.01530</td>\n",
       "      <td>0.41587</td>\n",
       "      <td>0.22396</td>\n",
       "      <td>0.11850</td>\n",
       "      <td>0.10062</td>\n",
       "      <td>0.19727</td>\n",
       "    </tr>\n",
       "    <tr>\n",
       "      <th>157</th>\n",
       "      <td>Togo</td>\n",
       "      <td>2.839</td>\n",
       "      <td>0.20868</td>\n",
       "      <td>0.13995</td>\n",
       "      <td>0.28443</td>\n",
       "      <td>0.36453</td>\n",
       "      <td>0.10731</td>\n",
       "      <td>0.16681</td>\n",
       "    </tr>\n",
       "  </tbody>\n",
       "</table>\n",
       "<p>158 rows × 8 columns</p>\n",
       "</div>"
      ],
      "text/plain": [
       "         Country  Happiness Score  Economy (GDP per Capita)   Family  \\\n",
       "0    Switzerland            7.587                   1.39651  1.34951   \n",
       "1        Iceland            7.561                   1.30232  1.40223   \n",
       "2        Denmark            7.527                   1.32548  1.36058   \n",
       "3         Norway            7.522                   1.45900  1.33095   \n",
       "4         Canada            7.427                   1.32629  1.32261   \n",
       "..           ...              ...                       ...      ...   \n",
       "153       Rwanda            3.465                   0.22208  0.77370   \n",
       "154        Benin            3.340                   0.28665  0.35386   \n",
       "155        Syria            3.006                   0.66320  0.47489   \n",
       "156      Burundi            2.905                   0.01530  0.41587   \n",
       "157         Togo            2.839                   0.20868  0.13995   \n",
       "\n",
       "     Health (Life Expectancy)  Freedom  Trust (Government Corruption)  \\\n",
       "0                     0.94143  0.66557                        0.41978   \n",
       "1                     0.94784  0.62877                        0.14145   \n",
       "2                     0.87464  0.64938                        0.48357   \n",
       "3                     0.88521  0.66973                        0.36503   \n",
       "4                     0.90563  0.63297                        0.32957   \n",
       "..                        ...      ...                            ...   \n",
       "153                   0.42864  0.59201                        0.55191   \n",
       "154                   0.31910  0.48450                        0.08010   \n",
       "155                   0.72193  0.15684                        0.18906   \n",
       "156                   0.22396  0.11850                        0.10062   \n",
       "157                   0.28443  0.36453                        0.10731   \n",
       "\n",
       "     Generosity  \n",
       "0       0.29678  \n",
       "1       0.43630  \n",
       "2       0.34139  \n",
       "3       0.34699  \n",
       "4       0.45811  \n",
       "..          ...  \n",
       "153     0.22628  \n",
       "154     0.18260  \n",
       "155     0.47179  \n",
       "156     0.19727  \n",
       "157     0.16681  \n",
       "\n",
       "[158 rows x 8 columns]"
      ]
     },
     "execution_count": 7,
     "metadata": {},
     "output_type": "execute_result"
    }
   ],
   "source": [
    "df=happy.drop(['Region','Standard Error','Dystopia Residual','Happiness Rank'],axis=1)\n",
    "df"
   ]
  },
  {
   "cell_type": "markdown",
   "metadata": {},
   "source": [
    "### here we drop column 'region',\"Standard error\",'Dystopia Residual','Happiness Rank' beacause these column will not play import role for predicting Happyness score"
   ]
  },
  {
   "cell_type": "code",
   "execution_count": 8,
   "metadata": {},
   "outputs": [
    {
     "data": {
      "text/html": [
       "<div>\n",
       "<style scoped>\n",
       "    .dataframe tbody tr th:only-of-type {\n",
       "        vertical-align: middle;\n",
       "    }\n",
       "\n",
       "    .dataframe tbody tr th {\n",
       "        vertical-align: top;\n",
       "    }\n",
       "\n",
       "    .dataframe thead th {\n",
       "        text-align: right;\n",
       "    }\n",
       "</style>\n",
       "<table border=\"1\" class=\"dataframe\">\n",
       "  <thead>\n",
       "    <tr style=\"text-align: right;\">\n",
       "      <th></th>\n",
       "      <th>Happiness Score</th>\n",
       "      <th>Economy (GDP per Capita)</th>\n",
       "      <th>Family</th>\n",
       "      <th>Health (Life Expectancy)</th>\n",
       "      <th>Freedom</th>\n",
       "      <th>Trust (Government Corruption)</th>\n",
       "      <th>Generosity</th>\n",
       "    </tr>\n",
       "    <tr>\n",
       "      <th>Country</th>\n",
       "      <th></th>\n",
       "      <th></th>\n",
       "      <th></th>\n",
       "      <th></th>\n",
       "      <th></th>\n",
       "      <th></th>\n",
       "      <th></th>\n",
       "    </tr>\n",
       "  </thead>\n",
       "  <tbody>\n",
       "    <tr>\n",
       "      <th>Switzerland</th>\n",
       "      <td>7.587</td>\n",
       "      <td>1.39651</td>\n",
       "      <td>1.34951</td>\n",
       "      <td>0.94143</td>\n",
       "      <td>0.66557</td>\n",
       "      <td>0.41978</td>\n",
       "      <td>0.29678</td>\n",
       "    </tr>\n",
       "    <tr>\n",
       "      <th>Iceland</th>\n",
       "      <td>7.561</td>\n",
       "      <td>1.30232</td>\n",
       "      <td>1.40223</td>\n",
       "      <td>0.94784</td>\n",
       "      <td>0.62877</td>\n",
       "      <td>0.14145</td>\n",
       "      <td>0.43630</td>\n",
       "    </tr>\n",
       "    <tr>\n",
       "      <th>Denmark</th>\n",
       "      <td>7.527</td>\n",
       "      <td>1.32548</td>\n",
       "      <td>1.36058</td>\n",
       "      <td>0.87464</td>\n",
       "      <td>0.64938</td>\n",
       "      <td>0.48357</td>\n",
       "      <td>0.34139</td>\n",
       "    </tr>\n",
       "    <tr>\n",
       "      <th>Norway</th>\n",
       "      <td>7.522</td>\n",
       "      <td>1.45900</td>\n",
       "      <td>1.33095</td>\n",
       "      <td>0.88521</td>\n",
       "      <td>0.66973</td>\n",
       "      <td>0.36503</td>\n",
       "      <td>0.34699</td>\n",
       "    </tr>\n",
       "    <tr>\n",
       "      <th>Canada</th>\n",
       "      <td>7.427</td>\n",
       "      <td>1.32629</td>\n",
       "      <td>1.32261</td>\n",
       "      <td>0.90563</td>\n",
       "      <td>0.63297</td>\n",
       "      <td>0.32957</td>\n",
       "      <td>0.45811</td>\n",
       "    </tr>\n",
       "    <tr>\n",
       "      <th>...</th>\n",
       "      <td>...</td>\n",
       "      <td>...</td>\n",
       "      <td>...</td>\n",
       "      <td>...</td>\n",
       "      <td>...</td>\n",
       "      <td>...</td>\n",
       "      <td>...</td>\n",
       "    </tr>\n",
       "    <tr>\n",
       "      <th>Rwanda</th>\n",
       "      <td>3.465</td>\n",
       "      <td>0.22208</td>\n",
       "      <td>0.77370</td>\n",
       "      <td>0.42864</td>\n",
       "      <td>0.59201</td>\n",
       "      <td>0.55191</td>\n",
       "      <td>0.22628</td>\n",
       "    </tr>\n",
       "    <tr>\n",
       "      <th>Benin</th>\n",
       "      <td>3.340</td>\n",
       "      <td>0.28665</td>\n",
       "      <td>0.35386</td>\n",
       "      <td>0.31910</td>\n",
       "      <td>0.48450</td>\n",
       "      <td>0.08010</td>\n",
       "      <td>0.18260</td>\n",
       "    </tr>\n",
       "    <tr>\n",
       "      <th>Syria</th>\n",
       "      <td>3.006</td>\n",
       "      <td>0.66320</td>\n",
       "      <td>0.47489</td>\n",
       "      <td>0.72193</td>\n",
       "      <td>0.15684</td>\n",
       "      <td>0.18906</td>\n",
       "      <td>0.47179</td>\n",
       "    </tr>\n",
       "    <tr>\n",
       "      <th>Burundi</th>\n",
       "      <td>2.905</td>\n",
       "      <td>0.01530</td>\n",
       "      <td>0.41587</td>\n",
       "      <td>0.22396</td>\n",
       "      <td>0.11850</td>\n",
       "      <td>0.10062</td>\n",
       "      <td>0.19727</td>\n",
       "    </tr>\n",
       "    <tr>\n",
       "      <th>Togo</th>\n",
       "      <td>2.839</td>\n",
       "      <td>0.20868</td>\n",
       "      <td>0.13995</td>\n",
       "      <td>0.28443</td>\n",
       "      <td>0.36453</td>\n",
       "      <td>0.10731</td>\n",
       "      <td>0.16681</td>\n",
       "    </tr>\n",
       "  </tbody>\n",
       "</table>\n",
       "<p>158 rows × 7 columns</p>\n",
       "</div>"
      ],
      "text/plain": [
       "             Happiness Score  Economy (GDP per Capita)   Family  \\\n",
       "Country                                                           \n",
       "Switzerland            7.587                   1.39651  1.34951   \n",
       "Iceland                7.561                   1.30232  1.40223   \n",
       "Denmark                7.527                   1.32548  1.36058   \n",
       "Norway                 7.522                   1.45900  1.33095   \n",
       "Canada                 7.427                   1.32629  1.32261   \n",
       "...                      ...                       ...      ...   \n",
       "Rwanda                 3.465                   0.22208  0.77370   \n",
       "Benin                  3.340                   0.28665  0.35386   \n",
       "Syria                  3.006                   0.66320  0.47489   \n",
       "Burundi                2.905                   0.01530  0.41587   \n",
       "Togo                   2.839                   0.20868  0.13995   \n",
       "\n",
       "             Health (Life Expectancy)  Freedom  Trust (Government Corruption)  \\\n",
       "Country                                                                         \n",
       "Switzerland                   0.94143  0.66557                        0.41978   \n",
       "Iceland                       0.94784  0.62877                        0.14145   \n",
       "Denmark                       0.87464  0.64938                        0.48357   \n",
       "Norway                        0.88521  0.66973                        0.36503   \n",
       "Canada                        0.90563  0.63297                        0.32957   \n",
       "...                               ...      ...                            ...   \n",
       "Rwanda                        0.42864  0.59201                        0.55191   \n",
       "Benin                         0.31910  0.48450                        0.08010   \n",
       "Syria                         0.72193  0.15684                        0.18906   \n",
       "Burundi                       0.22396  0.11850                        0.10062   \n",
       "Togo                          0.28443  0.36453                        0.10731   \n",
       "\n",
       "             Generosity  \n",
       "Country                  \n",
       "Switzerland     0.29678  \n",
       "Iceland         0.43630  \n",
       "Denmark         0.34139  \n",
       "Norway          0.34699  \n",
       "Canada          0.45811  \n",
       "...                 ...  \n",
       "Rwanda          0.22628  \n",
       "Benin           0.18260  \n",
       "Syria           0.47179  \n",
       "Burundi         0.19727  \n",
       "Togo            0.16681  \n",
       "\n",
       "[158 rows x 7 columns]"
      ]
     },
     "execution_count": 8,
     "metadata": {},
     "output_type": "execute_result"
    }
   ],
   "source": [
    "df1=df.set_index('Country')\n",
    "df1"
   ]
  },
  {
   "cell_type": "markdown",
   "metadata": {},
   "source": [
    "### here we set Country name as a index, to know happyness score of particular country"
   ]
  },
  {
   "cell_type": "markdown",
   "metadata": {},
   "source": [
    "#### now we want to observe the distribution of data.tofill the o values"
   ]
  },
  {
   "cell_type": "code",
   "execution_count": 10,
   "metadata": {},
   "outputs": [
    {
     "data": {
      "image/png": "[encoded data removed]",
      "text/plain": [
       "<Figure size 1800x1440 with 7 Axes>"
      ]
     },
     "metadata": {
      "needs_background": "light"
     },
     "output_type": "display_data"
    }
   ],
   "source": [
    "plt.figure(figsize=(25,20)) # 25 and 20 represent size of rows and columns\n",
    "plotnumber=1  # initially plotnumber is set to 1\n",
    "for column in df1:  # we pass every column in for loop\n",
    "    if plotnumber<=15:  # plotnumber should not exceed 15\n",
    "        ax=plt.subplot(4,3,plotnumber)  # here plot graph in total 4 rows and 3 column\n",
    "        sns.distplot(df1[column])  # plot distribution of every column using seaborn\n",
    "        plt.xlabel(column,fontsize=25)  # give column name of every feature to x axis\n",
    "    plotnumber+=1  # increment the plotnumber\n",
    "plt.show()  # disply the plot"
   ]
  },
  {
   "cell_type": "code",
   "execution_count": 12,
   "metadata": {},
   "outputs": [
    {
     "data": {
      "text/html": [
       "<div>\n",
       "<style scoped>\n",
       "    .dataframe tbody tr th:only-of-type {\n",
       "        vertical-align: middle;\n",
       "    }\n",
       "\n",
       "    .dataframe tbody tr th {\n",
       "        vertical-align: top;\n",
       "    }\n",
       "\n",
       "    .dataframe thead th {\n",
       "        text-align: right;\n",
       "    }\n",
       "</style>\n",
       "<table border=\"1\" class=\"dataframe\">\n",
       "  <thead>\n",
       "    <tr style=\"text-align: right;\">\n",
       "      <th></th>\n",
       "      <th>Happiness Score</th>\n",
       "      <th>Economy (GDP per Capita)</th>\n",
       "      <th>Family</th>\n",
       "      <th>Health (Life Expectancy)</th>\n",
       "      <th>Freedom</th>\n",
       "      <th>Trust (Government Corruption)</th>\n",
       "      <th>Generosity</th>\n",
       "    </tr>\n",
       "  </thead>\n",
       "  <tbody>\n",
       "    <tr>\n",
       "      <th>count</th>\n",
       "      <td>158.000000</td>\n",
       "      <td>158.000000</td>\n",
       "      <td>158.000000</td>\n",
       "      <td>158.000000</td>\n",
       "      <td>158.000000</td>\n",
       "      <td>158.000000</td>\n",
       "      <td>158.000000</td>\n",
       "    </tr>\n",
       "    <tr>\n",
       "      <th>mean</th>\n",
       "      <td>5.375734</td>\n",
       "      <td>0.846137</td>\n",
       "      <td>0.991046</td>\n",
       "      <td>0.630259</td>\n",
       "      <td>0.428615</td>\n",
       "      <td>0.143422</td>\n",
       "      <td>0.237296</td>\n",
       "    </tr>\n",
       "    <tr>\n",
       "      <th>std</th>\n",
       "      <td>1.145010</td>\n",
       "      <td>0.403121</td>\n",
       "      <td>0.272369</td>\n",
       "      <td>0.247078</td>\n",
       "      <td>0.150693</td>\n",
       "      <td>0.120034</td>\n",
       "      <td>0.126685</td>\n",
       "    </tr>\n",
       "    <tr>\n",
       "      <th>min</th>\n",
       "      <td>2.839000</td>\n",
       "      <td>0.000000</td>\n",
       "      <td>0.000000</td>\n",
       "      <td>0.000000</td>\n",
       "      <td>0.000000</td>\n",
       "      <td>0.000000</td>\n",
       "      <td>0.000000</td>\n",
       "    </tr>\n",
       "    <tr>\n",
       "      <th>25%</th>\n",
       "      <td>4.526000</td>\n",
       "      <td>0.545808</td>\n",
       "      <td>0.856823</td>\n",
       "      <td>0.439185</td>\n",
       "      <td>0.328330</td>\n",
       "      <td>0.061675</td>\n",
       "      <td>0.150553</td>\n",
       "    </tr>\n",
       "    <tr>\n",
       "      <th>50%</th>\n",
       "      <td>5.232500</td>\n",
       "      <td>0.910245</td>\n",
       "      <td>1.029510</td>\n",
       "      <td>0.696705</td>\n",
       "      <td>0.435515</td>\n",
       "      <td>0.107220</td>\n",
       "      <td>0.216130</td>\n",
       "    </tr>\n",
       "    <tr>\n",
       "      <th>75%</th>\n",
       "      <td>6.243750</td>\n",
       "      <td>1.158448</td>\n",
       "      <td>1.214405</td>\n",
       "      <td>0.811013</td>\n",
       "      <td>0.549092</td>\n",
       "      <td>0.180255</td>\n",
       "      <td>0.309883</td>\n",
       "    </tr>\n",
       "    <tr>\n",
       "      <th>max</th>\n",
       "      <td>7.587000</td>\n",
       "      <td>1.690420</td>\n",
       "      <td>1.402230</td>\n",
       "      <td>1.025250</td>\n",
       "      <td>0.669730</td>\n",
       "      <td>0.551910</td>\n",
       "      <td>0.795880</td>\n",
       "    </tr>\n",
       "  </tbody>\n",
       "</table>\n",
       "</div>"
      ],
      "text/plain": [
       "       Happiness Score  Economy (GDP per Capita)      Family  \\\n",
       "count       158.000000                158.000000  158.000000   \n",
       "mean          5.375734                  0.846137    0.991046   \n",
       "std           1.145010                  0.403121    0.272369   \n",
       "min           2.839000                  0.000000    0.000000   \n",
       "25%           4.526000                  0.545808    0.856823   \n",
       "50%           5.232500                  0.910245    1.029510   \n",
       "75%           6.243750                  1.158448    1.214405   \n",
       "max           7.587000                  1.690420    1.402230   \n",
       "\n",
       "       Health (Life Expectancy)     Freedom  Trust (Government Corruption)  \\\n",
       "count                158.000000  158.000000                     158.000000   \n",
       "mean                   0.630259    0.428615                       0.143422   \n",
       "std                    0.247078    0.150693                       0.120034   \n",
       "min                    0.000000    0.000000                       0.000000   \n",
       "25%                    0.439185    0.328330                       0.061675   \n",
       "50%                    0.696705    0.435515                       0.107220   \n",
       "75%                    0.811013    0.549092                       0.180255   \n",
       "max                    1.025250    0.669730                       0.551910   \n",
       "\n",
       "       Generosity  \n",
       "count  158.000000  \n",
       "mean     0.237296  \n",
       "std      0.126685  \n",
       "min      0.000000  \n",
       "25%      0.150553  \n",
       "50%      0.216130  \n",
       "75%      0.309883  \n",
       "max      0.795880  "
      ]
     },
     "execution_count": 12,
     "metadata": {},
     "output_type": "execute_result"
    }
   ],
   "source": [
    "df1.describe()  \n"
   ]
  },
  {
   "cell_type": "markdown",
   "metadata": {},
   "source": [
    "#### Describe method give statistical analysis of data frame such as mean,total count,standard deviation,minimum valu and maximum value of each column,also provide first Quartile,Second Quartile,and Third Quartile range"
   ]
  },
  {
   "cell_type": "code",
   "execution_count": 69,
   "metadata": {},
   "outputs": [
    {
     "data": {
      "text/html": [
       "<div>\n",
       "<style scoped>\n",
       "    .dataframe tbody tr th:only-of-type {\n",
       "        vertical-align: middle;\n",
       "    }\n",
       "\n",
       "    .dataframe tbody tr th {\n",
       "        vertical-align: top;\n",
       "    }\n",
       "\n",
       "    .dataframe thead th {\n",
       "        text-align: right;\n",
       "    }\n",
       "</style>\n",
       "<table border=\"1\" class=\"dataframe\">\n",
       "  <thead>\n",
       "    <tr style=\"text-align: right;\">\n",
       "      <th></th>\n",
       "      <th>Happiness Score</th>\n",
       "      <th>Economy (GDP per Capita)</th>\n",
       "      <th>Family</th>\n",
       "      <th>Health (Life Expectancy)</th>\n",
       "      <th>Freedom</th>\n",
       "      <th>Trust (Government Corruption)</th>\n",
       "      <th>Generosity</th>\n",
       "    </tr>\n",
       "    <tr>\n",
       "      <th>Country</th>\n",
       "      <th></th>\n",
       "      <th></th>\n",
       "      <th></th>\n",
       "      <th></th>\n",
       "      <th></th>\n",
       "      <th></th>\n",
       "      <th></th>\n",
       "    </tr>\n",
       "  </thead>\n",
       "  <tbody>\n",
       "    <tr>\n",
       "      <th>Ireland</th>\n",
       "      <td>6.940</td>\n",
       "      <td>1.33596</td>\n",
       "      <td>1.36948</td>\n",
       "      <td>0.89533</td>\n",
       "      <td>0.61777</td>\n",
       "      <td>0.28703</td>\n",
       "      <td>0.45901</td>\n",
       "    </tr>\n",
       "    <tr>\n",
       "      <th>Zimbabwe</th>\n",
       "      <td>4.610</td>\n",
       "      <td>0.27100</td>\n",
       "      <td>1.03276</td>\n",
       "      <td>0.33475</td>\n",
       "      <td>0.25861</td>\n",
       "      <td>0.08079</td>\n",
       "      <td>0.18987</td>\n",
       "    </tr>\n",
       "    <tr>\n",
       "      <th>Chad</th>\n",
       "      <td>3.667</td>\n",
       "      <td>0.34193</td>\n",
       "      <td>0.76062</td>\n",
       "      <td>0.15010</td>\n",
       "      <td>0.23501</td>\n",
       "      <td>0.05269</td>\n",
       "      <td>0.18386</td>\n",
       "    </tr>\n",
       "    <tr>\n",
       "      <th>Ukraine</th>\n",
       "      <td>4.681</td>\n",
       "      <td>0.79907</td>\n",
       "      <td>1.20278</td>\n",
       "      <td>0.67390</td>\n",
       "      <td>0.25123</td>\n",
       "      <td>0.02961</td>\n",
       "      <td>0.15275</td>\n",
       "    </tr>\n",
       "    <tr>\n",
       "      <th>Bulgaria</th>\n",
       "      <td>4.218</td>\n",
       "      <td>1.01216</td>\n",
       "      <td>1.10614</td>\n",
       "      <td>0.76649</td>\n",
       "      <td>0.30587</td>\n",
       "      <td>0.00872</td>\n",
       "      <td>0.11921</td>\n",
       "    </tr>\n",
       "    <tr>\n",
       "      <th>...</th>\n",
       "      <td>...</td>\n",
       "      <td>...</td>\n",
       "      <td>...</td>\n",
       "      <td>...</td>\n",
       "      <td>...</td>\n",
       "      <td>...</td>\n",
       "      <td>...</td>\n",
       "    </tr>\n",
       "    <tr>\n",
       "      <th>Kyrgyzstan</th>\n",
       "      <td>5.286</td>\n",
       "      <td>0.47428</td>\n",
       "      <td>1.15115</td>\n",
       "      <td>0.65088</td>\n",
       "      <td>0.43477</td>\n",
       "      <td>0.04232</td>\n",
       "      <td>0.30030</td>\n",
       "    </tr>\n",
       "    <tr>\n",
       "      <th>Kuwait</th>\n",
       "      <td>6.295</td>\n",
       "      <td>1.55422</td>\n",
       "      <td>1.16594</td>\n",
       "      <td>0.72492</td>\n",
       "      <td>0.55499</td>\n",
       "      <td>0.25609</td>\n",
       "      <td>0.16228</td>\n",
       "    </tr>\n",
       "    <tr>\n",
       "      <th>Guatemala</th>\n",
       "      <td>6.123</td>\n",
       "      <td>0.74553</td>\n",
       "      <td>1.04356</td>\n",
       "      <td>0.64425</td>\n",
       "      <td>0.57733</td>\n",
       "      <td>0.09472</td>\n",
       "      <td>0.27489</td>\n",
       "    </tr>\n",
       "    <tr>\n",
       "      <th>Mozambique</th>\n",
       "      <td>4.971</td>\n",
       "      <td>0.08308</td>\n",
       "      <td>1.02626</td>\n",
       "      <td>0.09131</td>\n",
       "      <td>0.34037</td>\n",
       "      <td>0.15603</td>\n",
       "      <td>0.22269</td>\n",
       "    </tr>\n",
       "    <tr>\n",
       "      <th>Slovenia</th>\n",
       "      <td>5.848</td>\n",
       "      <td>1.18498</td>\n",
       "      <td>1.27385</td>\n",
       "      <td>0.87337</td>\n",
       "      <td>0.60855</td>\n",
       "      <td>0.03787</td>\n",
       "      <td>0.25328</td>\n",
       "    </tr>\n",
       "  </tbody>\n",
       "</table>\n",
       "<p>158 rows × 7 columns</p>\n",
       "</div>"
      ],
      "text/plain": [
       "            Happiness Score  Economy (GDP per Capita)   Family  \\\n",
       "Country                                                          \n",
       "Ireland               6.940                   1.33596  1.36948   \n",
       "Zimbabwe              4.610                   0.27100  1.03276   \n",
       "Chad                  3.667                   0.34193  0.76062   \n",
       "Ukraine               4.681                   0.79907  1.20278   \n",
       "Bulgaria              4.218                   1.01216  1.10614   \n",
       "...                     ...                       ...      ...   \n",
       "Kyrgyzstan            5.286                   0.47428  1.15115   \n",
       "Kuwait                6.295                   1.55422  1.16594   \n",
       "Guatemala             6.123                   0.74553  1.04356   \n",
       "Mozambique            4.971                   0.08308  1.02626   \n",
       "Slovenia              5.848                   1.18498  1.27385   \n",
       "\n",
       "            Health (Life Expectancy)  Freedom  Trust (Government Corruption)  \\\n",
       "Country                                                                        \n",
       "Ireland                      0.89533  0.61777                        0.28703   \n",
       "Zimbabwe                     0.33475  0.25861                        0.08079   \n",
       "Chad                         0.15010  0.23501                        0.05269   \n",
       "Ukraine                      0.67390  0.25123                        0.02961   \n",
       "Bulgaria                     0.76649  0.30587                        0.00872   \n",
       "...                              ...      ...                            ...   \n",
       "Kyrgyzstan                   0.65088  0.43477                        0.04232   \n",
       "Kuwait                       0.72492  0.55499                        0.25609   \n",
       "Guatemala                    0.64425  0.57733                        0.09472   \n",
       "Mozambique                   0.09131  0.34037                        0.15603   \n",
       "Slovenia                     0.87337  0.60855                        0.03787   \n",
       "\n",
       "            Generosity  \n",
       "Country                 \n",
       "Ireland        0.45901  \n",
       "Zimbabwe       0.18987  \n",
       "Chad           0.18386  \n",
       "Ukraine        0.15275  \n",
       "Bulgaria       0.11921  \n",
       "...                ...  \n",
       "Kyrgyzstan     0.30030  \n",
       "Kuwait         0.16228  \n",
       "Guatemala      0.27489  \n",
       "Mozambique     0.22269  \n",
       "Slovenia       0.25328  \n",
       "\n",
       "[158 rows x 7 columns]"
      ]
     },
     "execution_count": 69,
     "metadata": {},
     "output_type": "execute_result"
    }
   ],
   "source": [
    "df2=df1.sample(frac=1)\n",
    "df2 # here we shuffle the data,because data in dataframe is in ascending order, we make it random"
   ]
  },
  {
   "cell_type": "markdown",
   "metadata": {},
   "source": [
    "### Here we shuffle or random all data ,beacause it is necessary for train test split,for train test data selected in random manner"
   ]
  },
  {
   "cell_type": "code",
   "execution_count": 70,
   "metadata": {},
   "outputs": [
    {
     "data": {
      "text/plain": [
       "<function matplotlib.pyplot.show(close=None, block=None)>"
      ]
     },
     "execution_count": 70,
     "metadata": {},
     "output_type": "execute_result"
    },
    {
     "data": {
      "image/png": "[encoded data removed]",
      "text/plain": [
       "<Figure size 432x288 with 1 Axes>"
      ]
     },
     "metadata": {
      "needs_background": "light"
     },
     "output_type": "display_data"
    },
    {
     "data": {
      "image/png": "[encoded data removed]",
      "text/plain": [
       "<Figure size 432x288 with 1 Axes>"
      ]
     },
     "metadata": {
      "needs_background": "light"
     },
     "output_type": "display_data"
    },
    {
     "data": {
      "image/png": "[encoded data removed]",
      "text/plain": [
       "<Figure size 432x288 with 1 Axes>"
      ]
     },
     "metadata": {
      "needs_background": "light"
     },
     "output_type": "display_data"
    },
    {
     "data": {
      "image/png": "[encoded data removed]",
      "text/plain": [
       "<Figure size 432x288 with 1 Axes>"
      ]
     },
     "metadata": {
      "needs_background": "light"
     },
     "output_type": "display_data"
    },
    {
     "data": {
      "image/png": "[encoded data removed]",
      "text/plain": [
       "<Figure size 432x288 with 1 Axes>"
      ]
     },
     "metadata": {
      "needs_background": "light"
     },
     "output_type": "display_data"
    },
    {
     "data": {
      "image/png": "[encoded data removed]",
      "text/plain": [
       "<Figure size 432x288 with 1 Axes>"
      ]
     },
     "metadata": {
      "needs_background": "light"
     },
     "output_type": "display_data"
    },
    {
     "data": {
      "image/png": "[encoded data removed]",
      "text/plain": [
       "<Figure size 432x288 with 1 Axes>"
      ]
     },
     "metadata": {
      "needs_background": "light"
     },
     "output_type": "display_data"
    }
   ],
   "source": [
    "# now we will see any outlier present in our dataset using box plot\n",
    "for column in df2:  # we pass every column to for loop\n",
    "    plt.figure()   \n",
    "    df2.boxplot([column]) # box plot of every column is plotted\n",
    "plt.show"
   ]
  },
  {
   "cell_type": "markdown",
   "metadata": {},
   "source": [
    "#### By observing above box plot, we can see the outlier in the dataset, the feature \"Trust(Government Corruption)\"has highest outliers above third quartile,then column 'Generosity' outliers above third quartile,column family has outliers below first quartiles,so lets try to remove it"
   ]
  },
  {
   "cell_type": "code",
   "execution_count": 71,
   "metadata": {},
   "outputs": [],
   "source": [
    "# by observing above boxplot,outliers seems to be present in column \"Family\",\"Trust(Government Corruption)\" & column \"Generosity\"\n",
    "# lets deal with this outliers,lets use IQR score method\n",
    "\n",
    "q=df2['Family'].quantile(0.9)# we are removing the bottom 1% data from column \"family\"\n",
    "data_cleaned=df2[df2['Family']>q]\n",
    "q=df2['Trust (Government Corruption)'].quantile(0.80) # we are removing the top 1% data from column \"family\"\n",
    "data_cleaned=df2[df2['Trust (Government Corruption)']<q]\n",
    "q=df2['Generosity'].quantile(0.96)# we are removing the top 2% data from column \"family\"\n",
    "data_cleaned=df2[df2['Generosity']<q]\n"
   ]
  },
  {
   "cell_type": "code",
   "execution_count": 72,
   "metadata": {},
   "outputs": [
    {
     "data": {
      "text/plain": [
       "(151, 7)"
      ]
     },
     "execution_count": 72,
     "metadata": {},
     "output_type": "execute_result"
    }
   ],
   "source": [
    "data_cleaned.shape"
   ]
  },
  {
   "cell_type": "code",
   "execution_count": 17,
   "metadata": {},
   "outputs": [],
   "source": [
    "# lets use z score to remove outliers\n",
    "from scipy.stats import zscore # z score represent the number of  standard deviation with which value of observation differ than mean value\n",
    "z=np.abs(zscore(data_cleaned))\n",
    "new_df=data_cleaned[(z<3).all(axis=1)]  # z score with std deviation =3 cover almost 99.47 "
   ]
  },
  {
   "cell_type": "code",
   "execution_count": 73,
   "metadata": {},
   "outputs": [
    {
     "data": {
      "text/plain": [
       "<function matplotlib.pyplot.show(close=None, block=None)>"
      ]
     },
     "execution_count": 73,
     "metadata": {},
     "output_type": "execute_result"
    },
    {
     "data": {
      "image/png": "[encoded data removed]",
      "text/plain": [
       "<Figure size 432x288 with 1 Axes>"
      ]
     },
     "metadata": {
      "needs_background": "light"
     },
     "output_type": "display_data"
    },
    {
     "data": {
      "image/png": "[encoded data removed]",
      "text/plain": [
       "<Figure size 432x288 with 1 Axes>"
      ]
     },
     "metadata": {
      "needs_background": "light"
     },
     "output_type": "display_data"
    },
    {
     "data": {
      "image/png": "[encoded data removed]",
      "text/plain": [
       "<Figure size 432x288 with 1 Axes>"
      ]
     },
     "metadata": {
      "needs_background": "light"
     },
     "output_type": "display_data"
    },
    {
     "data": {
      "image/png": "[encoded data removed]",
      "text/plain": [
       "<Figure size 432x288 with 1 Axes>"
      ]
     },
     "metadata": {
      "needs_background": "light"
     },
     "output_type": "display_data"
    },
    {
     "data": {
      "image/png": "[encoded data removed]",
      "text/plain": [
       "<Figure size 432x288 with 1 Axes>"
      ]
     },
     "metadata": {
      "needs_background": "light"
     },
     "output_type": "display_data"
    },
    {
     "data": {
      "image/png": "[encoded data removed]",
      "text/plain": [
       "<Figure size 432x288 with 1 Axes>"
      ]
     },
     "metadata": {
      "needs_background": "light"
     },
     "output_type": "display_data"
    },
    {
     "data": {
      "image/png": "[encoded data removed]",
      "text/plain": [
       "<Figure size 432x288 with 1 Axes>"
      ]
     },
     "metadata": {
      "needs_background": "light"
     },
     "output_type": "display_data"
    }
   ],
   "source": [
    "for column in new_df: # we pass every column of new_df into for loop\n",
    "    plt.figure()\n",
    "    new_df.boxplot([column]) # plot boxplot for every column in dataframe\n",
    "plt.show # disply box plot"
   ]
  },
  {
   "cell_type": "markdown",
   "metadata": {},
   "source": [
    "### We remove outlier in the column 'Generosity' completely,and some outlier from column 'family' is removed but still one outlier is present, but column 'Trust' contain lot of outlier ,we can not reduce the outlier more, because it will reduce the data"
   ]
  },
  {
   "cell_type": "code",
   "execution_count": 74,
   "metadata": {},
   "outputs": [
    {
     "data": {
      "text/plain": [
       "(147, 7)"
      ]
     },
     "execution_count": 74,
     "metadata": {},
     "output_type": "execute_result"
    }
   ],
   "source": [
    "new_df.shape # to see how much data we loss"
   ]
  },
  {
   "cell_type": "code",
   "execution_count": 75,
   "metadata": {},
   "outputs": [
    {
     "data": {
      "text/plain": [
       "93.0379746835443"
      ]
     },
     "execution_count": 75,
     "metadata": {},
     "output_type": "execute_result"
    }
   ],
   "source": [
    "# we lost 5 rows ,\n",
    "(147/158)*100"
   ]
  },
  {
   "cell_type": "markdown",
   "metadata": {},
   "source": [
    "#### we lost almost 7% data,so we will not apply more outlier removal techniques"
   ]
  },
  {
   "cell_type": "code",
   "execution_count": 77,
   "metadata": {},
   "outputs": [
    {
     "data": {
      "text/plain": [
       "Happiness Score                  0.164237\n",
       "Economy (GDP per Capita)        -0.378225\n",
       "Family                          -0.769852\n",
       "Health (Life Expectancy)        -0.733787\n",
       "Freedom                         -0.343653\n",
       "Trust (Government Corruption)    1.334954\n",
       "Generosity                       0.455833\n",
       "dtype: float64"
      ]
     },
     "execution_count": 77,
     "metadata": {},
     "output_type": "execute_result"
    }
   ],
   "source": [
    "new_df.skew()"
   ]
  },
  {
   "cell_type": "markdown",
   "metadata": {},
   "source": [
    "#### Skewness range should be in between -0.5 to 0.5 but column \"Trust\" is out of range,it means lot of skewness is present"
   ]
  },
  {
   "cell_type": "markdown",
   "metadata": {},
   "source": [
    "## Multivariate Analysis"
   ]
  },
  {
   "cell_type": "code",
   "execution_count": 22,
   "metadata": {
    "scrolled": true
   },
   "outputs": [
    {
     "data": {
      "image/png": "[encoded data removed]",
      "text/plain": [
       "<Figure size 1584x1152 with 2 Axes>"
      ]
     },
     "metadata": {
      "needs_background": "light"
     },
     "output_type": "display_data"
    }
   ],
   "source": [
    "# lets plot heatmap which is multivaraiate analysis,find the coeffient of multicollinearity\n",
    "df_corr=new_df.corr().abs()\n",
    "plt.figure(figsize=(22,16))\n",
    "sns.heatmap(df_corr,vmin=-1,vmax=1,annot=True,square=True,center=0,fmt='.1g',linewidth=.1)\n",
    "plt.show()"
   ]
  },
  {
   "cell_type": "markdown",
   "metadata": {},
   "source": [
    "#### correlation ranges between -1 to +1 ,values which are closer to 0 ,means no linear relation between two feature,in above heatmap, relation betwwen Economy and generosity is non linear because value is 0.02, value increasing towards 1 shows linear relationship.in our heatmap no negative correlation is present"
   ]
  },
  {
   "cell_type": "code",
   "execution_count": 52,
   "metadata": {},
   "outputs": [
    {
     "data": {
      "image/png": "[encoded data removed]",
      "text/plain": [
       "<Figure size 1584x504 with 1 Axes>"
      ]
     },
     "metadata": {
      "needs_background": "light"
     },
     "output_type": "display_data"
    }
   ],
   "source": [
    "plt.figure(figsize=(22,7))\n",
    "new_df.corr()['Happiness Score'].sort_values(ascending=False).drop(['Happiness Score']).plot(kind='bar',color='r')\n",
    "plt.xlabel('Features',fontsize=14)\n",
    "plt.ylabel('column with target name',fontsize=14)\n",
    "plt.title('correlation',fontsize=18)\n",
    "plt.show()"
   ]
  },
  {
   "cell_type": "code",
   "execution_count": 24,
   "metadata": {},
   "outputs": [],
   "source": [
    "x=new_df.drop(columns=[\"Happiness Score\"],axis=1)\n",
    "y=new_df[\"Happiness Score\"]"
   ]
  },
  {
   "cell_type": "markdown",
   "metadata": {},
   "source": [
    "### Here we sepated our feature from label,\"happyness score \" is our label, which is separated as y, and x contains only feature"
   ]
  },
  {
   "cell_type": "code",
   "execution_count": 25,
   "metadata": {},
   "outputs": [],
   "source": [
    "# now we will perform data scaling using stsndard scaler & also use train test split\n",
    "from sklearn.preprocessing import MinMaxScaler\n",
    "from sklearn.model_selection import train_test_split"
   ]
  },
  {
   "cell_type": "markdown",
   "metadata": {},
   "source": [
    "### we import min maxscaler because our data is not normally distributed for some column, we import train test split to divide data into training set and test set for feature and labels"
   ]
  },
  {
   "cell_type": "code",
   "execution_count": 53,
   "metadata": {},
   "outputs": [
    {
     "data": {
      "text/plain": [
       "array([[0.73644903, 0.8414379 , 0.75455743, 0.67024025, 0.30535084,\n",
       "        0.18231464],\n",
       "       [0.51248473, 0.46310648, 0.61577176, 0.36953698, 0.09215442,\n",
       "        0.59462298],\n",
       "       [0.77246133, 0.69787517, 0.90081444, 0.73204127, 0.28689545,\n",
       "        0.54965343],\n",
       "       [1.        , 0.83390638, 0.89630822, 0.91951981, 0.76702121,\n",
       "        0.58882588],\n",
       "       [0.65983337, 0.84596773, 0.71795172, 0.56646708, 0.38509279,\n",
       "        0.23201008],\n",
       "       [0.30077178, 0.5578326 , 0.29187028, 0.72905499, 0.24990303,\n",
       "        0.41148918],\n",
       "       [0.8170419 , 0.87097273, 0.92249695, 0.82139071, 0.41685891,\n",
       "        0.25902121],\n",
       "       [0.46984161, 0.30753698, 0.59452816, 0.62250459, 0.16983443,\n",
       "        0.15064062],\n",
       "       [0.40439667, 0.9437865 , 0.58299927, 0.98279904, 0.62468612,\n",
       "        0.47966814],\n",
       "       [0.04552692, 0.44282232, 0.33358693, 0.4260075 , 0.12259355,\n",
       "        0.51169922],\n",
       "       [0.65255673, 0.55636813, 0.79438186, 0.71940931, 0.43045546,\n",
       "        0.29561017],\n",
       "       [0.53407165, 0.65145809, 0.6906218 , 0.80220387, 0.18275728,\n",
       "        0.85755093],\n",
       "       [0.13493104, 0.75509833, 0.33027067, 0.68276768, 0.14372333,\n",
       "        0.610502  ],\n",
       "       [0.24967549, 0.50281068, 0.55965862, 0.70500052, 0.30306433,\n",
       "        0.48254568],\n",
       "       [0.6111477 , 0.85050665, 0.83908315, 0.94629179, 0.21142029,\n",
       "        0.53553875],\n",
       "       [0.99380399, 0.78506977, 0.70706657, 0.82867723, 0.51817978,\n",
       "        0.34085276],\n",
       "       [0.61286775, 0.84031909, 0.52558888, 0.71088349, 0.62505359,\n",
       "        0.35662676],\n",
       "       [0.25418982, 0.11662028, 0.58682273, 0.60949935, 0.25196497,\n",
       "        0.44574669],\n",
       "       [0.89168175, 0.85890229, 0.84056572, 0.81531363, 0.319764  ,\n",
       "        0.84236505],\n",
       "       [0.79939383, 0.92490313, 0.88599854, 0.95468323, 0.87162893,\n",
       "        0.99771057],\n",
       "       [0.91262924, 0.7485128 , 0.78931968, 0.95795321, 0.78304718,\n",
       "        0.55509347],\n",
       "       [0.28150597, 0.26307555, 0.3539722 , 0.68794887, 0.56913623,\n",
       "        0.3800252 ],\n",
       "       [0.79583224, 0.5956903 , 0.94160449, 0.49584161, 0.15576833,\n",
       "        0.38977106],\n",
       "       [0.82501551, 0.92362059, 0.86721287, 0.95813238, 0.8399853 ,\n",
       "        0.49046419],\n",
       "       [0.8550556 , 0.9043188 , 0.86849061, 0.93221149, 0.37664088,\n",
       "        0.69498005],\n",
       "       [0.6546988 , 0.57767105, 0.62467691, 0.55290938, 0.32333667,\n",
       "        0.16381012],\n",
       "       [0.12195715, 0.2739817 , 0.42970007, 0.64876891, 0.30257436,\n",
       "        0.51092208],\n",
       "       [0.56916319, 0.58569375, 0.79646915, 0.77190808, 0.05214054,\n",
       "        0.17191766],\n",
       "       [0.41242143, 0.07175863, 0.50259937, 0.59406029, 0.16873201,\n",
       "        0.55608066],\n",
       "       [0.13315344, 0.33215085, 0.45570349, 0.28644379, 0.1612192 ,\n",
       "        0.44807813],\n",
       "       [0.45530753, 0.70038567, 0.07379663, 0.45776656, 0.05783639,\n",
       "        0.38351187],\n",
       "       [0.58738035, 0.85259874, 0.67375762, 0.79832171, 0.0998918 ,\n",
       "        0.38649443],\n",
       "       [0.15286046, 0.44559661, 0.35420629, 0.34218267, 0.40162914,\n",
       "        0.3663306 ],\n",
       "       [0.89296059, 0.9520457 , 0.91824433, 0.99378854, 0.85235694,\n",
       "        0.62335644],\n",
       "       [0.42406532, 0.1564882 , 0.70415021, 0.23418392, 0.38133638,\n",
       "        0.99094728],\n",
       "       [0.71777788, 0.74547472, 0.62782736, 0.77119138, 0.16795623,\n",
       "        0.2484142 ],\n",
       "       [0.1113683 , 0.14726482, 0.23417703, 0.5632867 , 0.24318641,\n",
       "        0.60191136],\n",
       "       [0.8527217 , 0.91540687, 0.90861741, 0.97239186, 0.72290386,\n",
       "        0.91497585],\n",
       "       [0.58731641, 0.63624043, 0.71733723, 0.49955952, 0.10411776,\n",
       "        0.46962823],\n",
       "       [0.67363851, 0.85992105, 0.76784199, 0.67152435, 0.16856869,\n",
       "        0.2405167 ],\n",
       "       [0.18236344, 0.63656788, 0.37273836, 0.49091425, 0.11269216,\n",
       "        0.72205419],\n",
       "       [0.85152598, 0.89706926, 0.88843697, 0.98517313, 0.89045179,\n",
       "        0.76164671],\n",
       "       [0.41840643, 0.54709927, 0.15612777, 0.51265435, 0.07763918,\n",
       "        0.57200168],\n",
       "       [0.83625017, 0.89396751, 0.87458669, 0.87273976, 0.45552539,\n",
       "        0.46733879],\n",
       "       [0.4339508 , 0.32750277, 0.30286272, 0.61914503, 0.23393831,\n",
       "        0.26019744],\n",
       "       [0.93291813, 0.93516346, 0.86340892, 1.        , 0.74058347,\n",
       "        0.72881748],\n",
       "       [0.63529871, 0.72931107, 0.04658376, 0.73902916, 0.25002552,\n",
       "        0.21972275],\n",
       "       [0.89225723, 0.71047318, 0.70251158, 0.4635898 , 0.6593512 ,\n",
       "        0.2878807 ],\n",
       "       [0.34943827, 0.34390293, 0.39077298, 0.53112448, 0.15570708,\n",
       "        0.19178744],\n",
       "       [0.43565806, 0.6144918 , 0.52592051, 0.85727084, 0.1750199 ,\n",
       "        0.43133795],\n",
       "       [0.29034279, 0.51504484, 0.3499049 , 0.36181745, 0.35183635,\n",
       "        0.4599874 ],\n",
       "       [0.62304097, 0.54823628, 0.70734943, 0.27264719, 0.2872221 ,\n",
       "        0.33900441],\n",
       "       [0.63014496, 0.46939184, 0.58753475, 0.        , 0.27685115,\n",
       "        0.37643352],\n",
       "       [0.58858246, 0.80211574, 0.27006096, 0.49582668, 0.17673479,\n",
       "        0.25148078],\n",
       "       [0.84644257, 0.83082283, 0.72875884, 0.67925881, 0.62007227,\n",
       "        0.36467129],\n",
       "       [0.83273334, 1.        , 0.92449646, 0.93884103, 0.2841394 ,\n",
       "        0.91640412],\n",
       "       [0.80000767, 0.81402245, 0.93095343, 0.39173995, 0.05459037,\n",
       "        0.47937408],\n",
       "       [0.57674674, 0.68317597, 0.67923921, 0.60712526, 0.28716085,\n",
       "        0.23215711],\n",
       "       [0.64428899, 0.62067711, 0.69202634, 0.83714333, 0.14890881,\n",
       "        0.79277463],\n",
       "       [0.27015621, 0.53195437, 0.22825652, 0.73625192, 0.11348835,\n",
       "        0.43306028],\n",
       "       [0.66720591, 0.53032618, 0.74996342, 0.52361399, 0.00861523,\n",
       "        0.28876286],\n",
       "       [0.20450026, 0.        , 0.29587905, 0.34960357, 0.19378152,\n",
       "        0.7668557 ],\n",
       "       [0.2186379 , 0.41638924, 0.14640332, 0.3509026 , 0.10293367,\n",
       "        0.38617937],\n",
       "       [0.04437596, 0.42733177, 0.28975372, 0.71210786, 0.31463977,\n",
       "        0.40720437],\n",
       "       [0.56341477, 0.27419091, 0.71975616, 0.39221776, 0.12516587,\n",
       "        0.13507666],\n",
       "       [0.72743316, 0.84895123, 0.65277737, 0.54766846, 0.05671355,\n",
       "        0.00417979],\n",
       "       [0.        , 0.63522167, 0.09564496, 0.33752408, 0.15103199,\n",
       "        0.52161311],\n",
       "       [0.38280336, 0.56643745, 0.64389173, 0.36580413, 0.25882449,\n",
       "        0.2363159 ],\n",
       "       [0.47438791, 0.07528789, 0.71129968, 0.60587102, 0.77790254,\n",
       "        0.11650914],\n",
       "       [0.67884981, 0.82414634, 0.7916118 , 0.90128858, 0.49672335,\n",
       "        0.48813275],\n",
       "       [0.29754909, 0.42596736, 0.14811022, 0.69977454, 0.36124778,\n",
       "        0.42354547],\n",
       "       [0.38012418, 0.64802889, 0.60303341, 0.49001837, 0.02833636,\n",
       "        0.44005461],\n",
       "       [0.05312326, 0.65801634, 0.0890612 , 0.50821973, 0.31390482,\n",
       "        0.46773787],\n",
       "       [0.33318413, 0.64690098, 0.35969763, 0.15052335, 0.29465325,\n",
       "        0.40037807],\n",
       "       [0.66771106, 0.86695228, 0.70277493, 0.64067609, 0.2213421 ,\n",
       "        0.12268431],\n",
       "       [0.16504786, 0.49939966, 0.26456962, 0.5896854 , 0.25733418,\n",
       "        0.45677379],\n",
       "       [0.678415  , 0.58530263, 0.7136991 , 0.34065967, 0.3168242 ,\n",
       "        0.2573619 ],\n",
       "       [0.82548228, 0.70341465, 0.85374299, 0.59337345, 0.16132127,\n",
       "        0.53299727],\n",
       "       [0.58860804, 0.64289872, 0.72992929, 0.30022546, 0.04879244,\n",
       "        0.40392775],\n",
       "       [0.72347514, 0.74202732, 0.68646672, 0.62216117, 0.220403  ,\n",
       "        0.38426801],\n",
       "       [0.88626583, 0.68705088, 0.9883248 , 0.89003031, 0.75326134,\n",
       "        0.82919555],\n",
       "       [0.56384319, 0.40400044, 0.60192148, 0.25813387, 0.12447176,\n",
       "        0.23715606],\n",
       "       [0.77250609, 0.53696629, 0.90081444, 0.6072895 , 0.12083784,\n",
       "        0.64352027],\n",
       "       [0.49121113, 0.4313886 , 0.71192392, 0.2963433 , 0.0749852 ,\n",
       "        0.16498635],\n",
       "       [0.70793716, 0.74734851, 0.83742502, 0.65895212, 0.25808954,\n",
       "        0.70075614],\n",
       "       [0.37933769, 0.76314832, 0.72483784, 0.82831887, 0.38972705,\n",
       "        0.584226  ],\n",
       "       [0.5181756 , 0.77149848, 0.67048037, 0.75316919, 0.04230039,\n",
       "        0.44591472],\n",
       "       [0.24007136, 0.67145118, 0.07424531, 0.47432547, 0.25063798,\n",
       "        0.3442134 ],\n",
       "       [0.37768158, 0.39584129, 0.53556693, 0.88977648, 0.49041504,\n",
       "        0.88620038],\n",
       "       [0.84754238, 0.96211501, 0.85309924, 0.96961462, 0.9825858 ,\n",
       "        0.71705524],\n",
       "       [0.2333766 , 0.61247248, 0.42467691, 0.54905708, 0.21407427,\n",
       "        0.43778618],\n",
       "       [0.38066129, 0.59181539, 0.67798098, 0.59946546, 0.13469979,\n",
       "        0.4836589 ],\n",
       "       [0.65581779, 0.45221852, 0.81879542, 0.50641303, 0.0889084 ,\n",
       "        0.45902121],\n",
       "       [0.48454195, 0.50714948, 0.16272129, 0.15504756, 0.14076312,\n",
       "        0.25927326],\n",
       "       [0.68004553, 0.81468646, 0.77699098, 0.80943067, 0.18461507,\n",
       "        0.51321151],\n",
       "       [0.71175451, 0.72110644, 0.70653011, 0.44302928, 0.12463508,\n",
       "        0.38281874],\n",
       "       [0.1832906 , 0.04639888, 0.31124116, 0.72342586, 0.15889186,\n",
       "        0.38353287],\n",
       "       [0.01025634, 0.09868289, 0.2200634 , 0.64285608, 0.13780291,\n",
       "        0.69582021],\n",
       "       [0.38073163, 0.1012025 , 0.50198488, 0.18069968, 0.20899087,\n",
       "        0.70722537],\n",
       "       [0.85007449, 0.88897379, 0.87085101, 0.91941529, 0.64485638,\n",
       "        1.        ],\n",
       "       [0.23017309, 0.51086976, 0.55473299, 0.57160348, 0.1159586 ,\n",
       "        0.67834489],\n",
       "       [0.75770345, 0.88322509, 0.85186052, 0.90864975, 0.07267828,\n",
       "        0.53198908],\n",
       "       [0.7167548 , 0.81800651, 0.74035601, 0.4794768 , 0.05167099,\n",
       "        0.26885108],\n",
       "       [0.75386691, 0.82189962, 0.82402341, 0.69227898, 0.04950697,\n",
       "        0.22444865],\n",
       "       [0.45099782, 0.66611181, 0.5668276 , 0.9338838 , 0.24604455,\n",
       "        0.52491073],\n",
       "       [0.7855759 , 0.83781768, 0.89136308, 0.61695011, 0.15429843,\n",
       "        0.69674438],\n",
       "       [0.23320396, 0.63300224, 0.40414533, 0.63032864, 0.11457036,\n",
       "        0.78853182],\n",
       "       [0.71926134, 0.69801161, 0.7061107 , 0.79172204, 0.20974624,\n",
       "        0.69470699],\n",
       "       [0.77487196, 0.80107879, 0.59968788, 0.83442581, 0.01863912,\n",
       "        0.66885108],\n",
       "       [0.29437755, 0.29517546, 0.59608876, 0.98914488, 0.14331503,\n",
       "        0.84770006],\n",
       "       [0.85424353, 0.97021048, 0.87327969, 0.9224165 , 0.58134455,\n",
       "        0.96410418],\n",
       "       [0.47670902, 0.67375248, 0.62838332, 0.86203395, 0.18873895,\n",
       "        0.5773787 ],\n",
       "       [0.84910257, 0.90643817, 0.86989515, 0.91793708, 0.44129596,\n",
       "        0.5926066 ],\n",
       "       [0.81254036, 0.86800742, 0.9667008 , 0.74082093, 0.36406508,\n",
       "        0.22484772],\n",
       "       [0.48886445, 0.65693391, 0.66068764, 0.6024816 , 0.23577568,\n",
       "        0.22457467],\n",
       "       [0.53214699, 0.56059779, 0.77133382, 0.1380407 , 0.        ,\n",
       "        0.521067  ],\n",
       "       [0.8696856 , 0.70855391, 0.74397464, 0.94476879, 0.6593512 ,\n",
       "        0.45246797],\n",
       "       [0.51094372, 0.81857956, 0.6573031 , 0.37512132, 0.05581528,\n",
       "        0.32083596],\n",
       "       [0.34885639, 0.34263858, 0.39143624, 0.63222493, 0.08427414,\n",
       "        0.48491913],\n",
       "       [0.17328363, 0.66392876, 0.32650573, 0.38614068, 0.16030051,\n",
       "        0.39880277],\n",
       "       [0.17055329, 0.40038021, 0.37890271, 0.36469921, 0.34599759,\n",
       "        0.97011132],\n",
       "       [0.67794183, 0.54797249, 0.42303828, 0.47652039, 0.22179123,\n",
       "        0.14328922],\n",
       "       [0.52956372, 0.90755699, 0.58783711, 0.65139683, 0.04979279,\n",
       "        0.69796261],\n",
       "       [0.57252016, 0.79060016, 0.65179225, 0.86112314, 0.28595635,\n",
       "        0.45545054],\n",
       "       [0.60060362, 0.70482454, 0.60244818, 0.4267242 , 0.35024396,\n",
       "        0.16429322],\n",
       "       [0.64504991, 0.21977842, 0.68085833, 0.44843444, 0.11506033,\n",
       "        0.79995799],\n",
       "       [0.71970254, 0.88834616, 0.75984394, 0.79318531, 0.08135476,\n",
       "        0.35200588],\n",
       "       [0.62742741, 0.84594954, 0.67985369, 0.73236976, 0.35306127,\n",
       "        0.30611216],\n",
       "       [0.73793249, 0.56984846, 0.86040478, 0.11495677, 0.02388584,\n",
       "        0.        ],\n",
       "       [0.00978317, 0.1028034 , 0.21844428, 0.17693697, 0.20078395,\n",
       "        0.41434573],\n",
       "       [0.40421763, 0.55432153, 0.72836869, 0.88758156, 0.20852132,\n",
       "        0.35412728],\n",
       "       [0.64719837, 0.73067547, 0.74761278, 0.45670643, 0.01316783,\n",
       "        0.25038857],\n",
       "       [0.30326553, 0.77161673, 0.63485004, 0.64917205, 0.08176306,\n",
       "        0.63074984],\n",
       "       [0.74167311, 0.76088341, 0.8536357 , 0.76850373, 0.01737337,\n",
       "        0.28815375],\n",
       "       [0.55247425, 0.63324783, 0.7712753 , 0.72527735, 0.36467754,\n",
       "        0.24240706],\n",
       "       [0.78656061, 0.91955466, 0.93208486, 0.68611231, 0.12598248,\n",
       "        0.38283974],\n",
       "       [0.56184179, 0.45615711, 0.79322117, 0.53354337, 0.12628871,\n",
       "        0.29976896],\n",
       "       [0.97311226, 0.65232222, 1.        , 0.81005778, 1.        ,\n",
       "        0.65332913],\n",
       "       [0.69220096, 0.44878932, 0.76864179, 0.38646917, 0.04497479,\n",
       "        0.11434573],\n",
       "       [0.63644327, 0.60866125, 0.59322117, 0.89076195, 0.27368679,\n",
       "        0.35687881],\n",
       "       [0.84806031, 0.92757736, 0.88332602, 0.94511221, 0.66819101,\n",
       "        0.96221382],\n",
       "       [0.74742792, 0.87971402, 0.76958791, 0.47408657, 0.06541045,\n",
       "        0.35482042],\n",
       "       [0.21116305, 0.5938438 , 0.        , 0.60979798, 0.17473409,\n",
       "        0.45133375],\n",
       "       [0.48586555, 0.91135003, 0.64470129, 0.804787  , 0.1636282 ,\n",
       "        0.71917664],\n",
       "       [0.57560218, 0.61101712, 0.71218727, 0.61959297, 0.11763265,\n",
       "        0.31468179],\n",
       "       [0.16672315, 0.66620277, 0.20076079, 0.58018903, 0.24753486,\n",
       "        0.39483302],\n",
       "       [0.73356523, 0.86830759, 0.71326993, 0.31866573, 0.01641386,\n",
       "        0.05547154]])"
      ]
     },
     "execution_count": 53,
     "metadata": {},
     "output_type": "execute_result"
    }
   ],
   "source": [
    "scaler=MinMaxScaler() # assign MinMaxScaler to scaler\n",
    "x_scaled=scaler.fit_transform(x) # here we fit features x to min max scaler\n",
    "x_scaled"
   ]
  },
  {
   "cell_type": "code",
   "execution_count": 55,
   "metadata": {},
   "outputs": [],
   "source": [
    "# now split data into train test split\n",
    "x_train,x_test,y_train,y_test=train_test_split(x_scaled,y,test_size=0.30,random_state=None) \n",
    "# train test split divide input and output into train and test phase, test size is selected 30% "
   ]
  },
  {
   "cell_type": "code",
   "execution_count": 28,
   "metadata": {},
   "outputs": [],
   "source": [
    "# model instantiating & training\n",
    "from sklearn.linear_model import LinearRegression\n",
    "from sklearn.metrics import r2_score\n"
   ]
  },
  {
   "cell_type": "code",
   "execution_count": 29,
   "metadata": {},
   "outputs": [
    {
     "data": {
      "text/html": [
       "<div>\n",
       "<style scoped>\n",
       "    .dataframe tbody tr th:only-of-type {\n",
       "        vertical-align: middle;\n",
       "    }\n",
       "\n",
       "    .dataframe tbody tr th {\n",
       "        vertical-align: top;\n",
       "    }\n",
       "\n",
       "    .dataframe thead th {\n",
       "        text-align: right;\n",
       "    }\n",
       "</style>\n",
       "<table border=\"1\" class=\"dataframe\">\n",
       "  <thead>\n",
       "    <tr style=\"text-align: right;\">\n",
       "      <th></th>\n",
       "      <th>Happiness Score</th>\n",
       "      <th>Economy (GDP per Capita)</th>\n",
       "      <th>Family</th>\n",
       "      <th>Health (Life Expectancy)</th>\n",
       "      <th>Freedom</th>\n",
       "      <th>Trust (Government Corruption)</th>\n",
       "      <th>Generosity</th>\n",
       "    </tr>\n",
       "    <tr>\n",
       "      <th>Country</th>\n",
       "      <th></th>\n",
       "      <th></th>\n",
       "      <th></th>\n",
       "      <th></th>\n",
       "      <th></th>\n",
       "      <th></th>\n",
       "      <th></th>\n",
       "    </tr>\n",
       "  </thead>\n",
       "  <tbody>\n",
       "    <tr>\n",
       "      <th>Mali</th>\n",
       "      <td>3.995</td>\n",
       "      <td>0.26074</td>\n",
       "      <td>1.03526</td>\n",
       "      <td>0.20583</td>\n",
       "      <td>0.38857</td>\n",
       "      <td>0.12352</td>\n",
       "      <td>0.18798</td>\n",
       "    </tr>\n",
       "    <tr>\n",
       "      <th>Lithuania</th>\n",
       "      <td>5.833</td>\n",
       "      <td>1.14723</td>\n",
       "      <td>1.25745</td>\n",
       "      <td>0.73128</td>\n",
       "      <td>0.21342</td>\n",
       "      <td>0.01031</td>\n",
       "      <td>0.02641</td>\n",
       "    </tr>\n",
       "  </tbody>\n",
       "</table>\n",
       "</div>"
      ],
      "text/plain": [
       "           Happiness Score  Economy (GDP per Capita)   Family  \\\n",
       "Country                                                         \n",
       "Mali                 3.995                   0.26074  1.03526   \n",
       "Lithuania            5.833                   1.14723  1.25745   \n",
       "\n",
       "           Health (Life Expectancy)  Freedom  Trust (Government Corruption)  \\\n",
       "Country                                                                       \n",
       "Mali                        0.20583  0.38857                        0.12352   \n",
       "Lithuania                   0.73128  0.21342                        0.01031   \n",
       "\n",
       "           Generosity  \n",
       "Country                \n",
       "Mali          0.18798  \n",
       "Lithuania     0.02641  "
      ]
     },
     "execution_count": 29,
     "metadata": {},
     "output_type": "execute_result"
    }
   ],
   "source": [
    "new_df.tail(2) # display bottom 2 rows"
   ]
  },
  {
   "cell_type": "code",
   "execution_count": 56,
   "metadata": {},
   "outputs": [
    {
     "data": {
      "text/plain": [
       "LinearRegression()"
      ]
     },
     "execution_count": 56,
     "metadata": {},
     "output_type": "execute_result"
    }
   ],
   "source": [
    "regression=LinearRegression() # assign linear regression to regression\n",
    "regression.fit(x_train,y_train) # fit training feature and training label to regression model"
   ]
  },
  {
   "cell_type": "code",
   "execution_count": 59,
   "metadata": {},
   "outputs": [
    {
     "name": "stdout",
     "output_type": "stream",
     "text": [
      "happiness score [4.40392263]\n"
     ]
    }
   ],
   "source": [
    "print(\"happiness score\",regression.predict(scaler.transform([[0.26074,1.03526,0.20583,0.38857,0.12352,0.18798]])))"
   ]
  },
  {
   "cell_type": "code",
   "execution_count": 60,
   "metadata": {},
   "outputs": [
    {
     "data": {
      "text/plain": [
       "0.7736942498240866"
      ]
     },
     "execution_count": 60,
     "metadata": {},
     "output_type": "execute_result"
    }
   ],
   "source": [
    "# find R2 score of this model\n",
    "regression.score(x_train,y_train)"
   ]
  },
  {
   "cell_type": "markdown",
   "metadata": {},
   "source": [
    "#### r2 score gives  confidence level"
   ]
  },
  {
   "cell_type": "code",
   "execution_count": 61,
   "metadata": {},
   "outputs": [
    {
     "data": {
      "text/plain": [
       "0.7508340865863862"
      ]
     },
     "execution_count": 61,
     "metadata": {},
     "output_type": "execute_result"
    }
   ],
   "source": [
    "# lets check how well model fit the test data\n",
    "regression.score(x_test,y_test)"
   ]
  },
  {
   "cell_type": "code",
   "execution_count": 62,
   "metadata": {},
   "outputs": [
    {
     "data": {
      "text/plain": [
       "array([6.86298121, 5.35483887, 6.60384929, 4.25650598, 6.38619814,\n",
       "       5.03278225, 5.18860485, 5.02090126, 5.63352622, 4.50090445,\n",
       "       4.19919233, 5.62428869, 5.37996737, 4.67620833, 4.92896317,\n",
       "       3.89117535, 6.84360953, 5.68660891, 5.40763908, 4.31303519,\n",
       "       4.72015054, 5.35922046, 5.87017018, 6.21725   , 7.29533903,\n",
       "       4.23928787, 4.43553687, 6.17246333, 4.97473387, 4.71419217,\n",
       "       4.05941264, 6.79083751, 3.5300664 , 5.96812242, 4.39215477,\n",
       "       3.89572957, 5.90346948, 3.67461658, 4.3398671 , 6.59605863,\n",
       "       5.76226879, 5.76120354, 5.30996663, 7.22507502, 6.09778871])"
      ]
     },
     "execution_count": 62,
     "metadata": {},
     "output_type": "execute_result"
    }
   ],
   "source": [
    "y_pred=regression.predict(x_test)  # we calculate predicted data using testing data\n",
    "y_pred"
   ]
  },
  {
   "cell_type": "code",
   "execution_count": 63,
   "metadata": {},
   "outputs": [
    {
     "name": "stdout",
     "output_type": "stream",
     "text": [
      "0.7508340865863862\n"
     ]
    }
   ],
   "source": [
    "accu0=print(r2_score(y_test,y_pred))  # we get 57.49 accuracy for predicted data and actual data"
   ]
  },
  {
   "cell_type": "code",
   "execution_count": 66,
   "metadata": {},
   "outputs": [
    {
     "data": {
      "image/png": "[encoded data removed]",
      "text/plain": [
       "<Figure size 432x288 with 1 Axes>"
      ]
     },
     "metadata": {
      "needs_background": "light"
     },
     "output_type": "display_data"
    }
   ],
   "source": [
    "# lets plot scatter plot to visualize the predicted output verses actual output\n",
    "plt.scatter(y_test,y_pred,c='r') # we plotpredicted output and actual output\n",
    "plt.xlabel(\"Actual Happiness score\") # here we give x axis title\n",
    "plt.ylabel(\"Predicted Happiness score\")# here we give y axis title\n",
    "plt.title(\"Actual vs Predicted happiness score\") # we give graph title\n",
    "plt.show() # display graph"
   ]
  },
  {
   "cell_type": "markdown",
   "metadata": {},
   "source": [
    "#### we get some nearly[50%] linear relation between actual and predicted output"
   ]
  },
  {
   "cell_type": "code",
   "execution_count": 65,
   "metadata": {},
   "outputs": [],
   "source": [
    "# now we will do model evaluation\n",
    "\n",
    "from sklearn.metrics import mean_squared_error,mean_absolute_error"
   ]
  },
  {
   "cell_type": "code",
   "execution_count": 38,
   "metadata": {},
   "outputs": [
    {
     "data": {
      "text/plain": [
       "0.39364090644285715"
      ]
     },
     "execution_count": 38,
     "metadata": {},
     "output_type": "execute_result"
    }
   ],
   "source": [
    "mean_absolute_error(y_test,y_pred) # mean absolute error -it represent average error"
   ]
  },
  {
   "cell_type": "code",
   "execution_count": 39,
   "metadata": {},
   "outputs": [
    {
     "data": {
      "text/plain": [
       "0.283601834879877"
      ]
     },
     "execution_count": 39,
     "metadata": {},
     "output_type": "execute_result"
    }
   ],
   "source": [
    "mean_squared_error(y_test,y_pred) # It is similar to MAE but noise is largerand large error are punished.it is harder to interpret than MAE as it is not in base units"
   ]
  },
  {
   "cell_type": "code",
   "execution_count": 40,
   "metadata": {},
   "outputs": [
    {
     "data": {
      "text/plain": [
       "0.5325428009839932"
      ]
     },
     "execution_count": 40,
     "metadata": {},
     "output_type": "execute_result"
    }
   ],
   "source": [
    "# Root mean squared error-similar to MSE  but the result is square rooted to make it more interpretable as it is in base unit\n",
    "np.sqrt(mean_squared_error(y_test,y_pred))"
   ]
  },
  {
   "cell_type": "code",
   "execution_count": 41,
   "metadata": {},
   "outputs": [],
   "source": [
    "# Regularization\n",
    "from sklearn.model_selection import GridSearchCV\n",
    "from sklearn.model_selection import cross_val_score\n",
    "from sklearn.linear_model import Lasso\n"
   ]
  },
  {
   "cell_type": "code",
   "execution_count": 42,
   "metadata": {},
   "outputs": [
    {
     "name": "stdout",
     "output_type": "stream",
     "text": [
      "{'alpha': 0.001, 'random_state': 2}\n"
     ]
    }
   ],
   "source": [
    "parameters={'alpha':[0.0001,0.001,0.01,0.1,1,10],'random_state':list(range(2,10))}\n",
    "ls=Lasso()\n",
    "clf=GridSearchCV(ls,parameters) # pass the parameter to GridSearch to find best parameter\n",
    "clf.fit(x_train, y_train)  # fit feature and label training data\n",
    "print(clf.best_params_) #we get best parameters"
   ]
  },
  {
   "cell_type": "code",
   "execution_count": 43,
   "metadata": {},
   "outputs": [
    {
     "data": {
      "text/plain": [
       "78.08441537405602"
      ]
     },
     "execution_count": 43,
     "metadata": {},
     "output_type": "execute_result"
    }
   ],
   "source": [
    "ls=Lasso(alpha=0.001,random_state=2)  # apply the best parameter on lasso regression\n",
    "ls.fit(x_train,y_train) # fit training data to lasso\n",
    "ls.score(x_train,y_train) # find the scoreon the basis of training feature and labels\n",
    "pred_ls=ls.predict(x_test) # predict output on the base of test feature\n",
    "pred_ls\n",
    "lss=r2_score(y_test,pred_ls) # comapre testing score and predicted score\n",
    "lss*100"
   ]
  },
  {
   "cell_type": "markdown",
   "metadata": {},
   "source": [
    "#### Cross validation score is used to find model is overfitted or not"
   ]
  },
  {
   "cell_type": "code",
   "execution_count": 44,
   "metadata": {},
   "outputs": [
    {
     "data": {
      "text/plain": [
       "71.72615704959632"
      ]
     },
     "execution_count": 44,
     "metadata": {},
     "output_type": "execute_result"
    }
   ],
   "source": [
    "cv_score=cross_val_score(ls,x_scaled,y,cv=5) # we pass model,feature,target and cv=5 means 4 set for training and 1 for testing\n",
    "cv_mean=cv_score.mean() # it takes mean of cv score \n",
    "cv_mean*100"
   ]
  },
  {
   "cell_type": "code",
   "execution_count": 45,
   "metadata": {},
   "outputs": [],
   "source": [
    "#Lets Build other models also\n",
    "\n",
    "from sklearn.neighbors import KNeighborsRegressor\n",
    "from sklearn.tree import DecisionTreeRegressor\n",
    "from  sklearn.ensemble import RandomForestRegressor\n",
    "from sklearn.ensemble import AdaBoostRegressor\n"
   ]
  },
  {
   "cell_type": "code",
   "execution_count": 46,
   "metadata": {},
   "outputs": [
    {
     "name": "stdout",
     "output_type": "stream",
     "text": [
      "{'leaf_size': 5, 'n_neighbors': 7}\n",
      "KNR_score 73.11831086758195\n",
      "cross_val_score_KNR_cv 66.15392597656971\n"
     ]
    }
   ],
   "source": [
    "parameters={'n_neighbors':[3,4,5,7],'leaf_size':range(5,15)}\n",
    "KNR=KNeighborsRegressor()\n",
    "clf1=GridSearchCV(KNR,parameters)# pass model and parameter to gridsearch to get best parameter\n",
    "clf1.fit(x_train,y_train) #fit training label and target to gridsearch\n",
    "print(clf1.best_params_) # we get best parameters\n",
    "KNR.fit(x_train,y_train) # fit trainig feature and label to KNR model\n",
    "\n",
    "KNR=KNeighborsRegressor(leaf_size= 5, n_neighbors= 5,) # pass best parameter\n",
    "KNR.fit(x_train,y_train)\n",
    "KNR.score(x_train,y_train) # get score of target and label training data\n",
    "pred1=KNR.predict(x_test) # predict output on the basis of feature test data\n",
    "KNR_score=r2_score(y_test,pred1) # we get accuracy by comparing predicted and actual output \n",
    "print('KNR_score',KNR_score*100)\n",
    "KNRscore=cross_val_score(KNR,x_scaled,y,cv=5) # check CV score for KNR \n",
    "KNR_cv=KNRscore.mean() # get mean of cv score\n",
    "print(\"cross_val_score_KNR_cv\",KNR_cv*100)"
   ]
  },
  {
   "cell_type": "code",
   "execution_count": 47,
   "metadata": {},
   "outputs": [
    {
     "name": "stdout",
     "output_type": "stream",
     "text": [
      "{'criterion': 'mae', 'max_features': 'log2'}\n",
      "RF_score 78.49541738976765\n",
      "cross_val_score_RF_cv 67.52410844920593\n"
     ]
    }
   ],
   "source": [
    "parameters={'criterion':['mse','mae'],'max_features':['auto','sqrt','log2']}\n",
    "RFR=RandomForestRegressor()\n",
    "clf3=GridSearchCV(RFR,parameters)# pass model and parameter to gridsearch to get best parameter\n",
    "clf3.fit(x_train,y_train)#fit training label and target to gridsearch\n",
    "print(clf3.best_params_)# we get best parameters\n",
    "FR=RandomForestRegressor(criterion='mae',max_features='log2')\n",
    "RFR.fit(x_train,y_train) #fit trainig feature and label to RFR model\n",
    "RFR.score(x_train,y_train) # get score of target and label training data\n",
    "pred2=RFR.predict(x_test) # predict output on the basis of feature test data\n",
    "RF_score=r2_score(y_test,pred2) # we get accuracy by comparing predicted and actual output\n",
    "print('RF_score',RF_score*100)\n",
    "RFscore=cross_val_score(RFR,x_scaled,y,cv=5)# check CV score for Random Forest \n",
    "RF_cv=RFscore.mean()# get mean of cv score\n",
    "print(\"cross_val_score_RF_cv\",RF_cv*100)"
   ]
  },
  {
   "cell_type": "code",
   "execution_count": 48,
   "metadata": {},
   "outputs": [
    {
     "name": "stdout",
     "output_type": "stream",
     "text": [
      "{'learning_rate': 0.5, 'loss': 'exponential', 'n_estimators': 11}\n",
      "ADB_score 74.26819055448783\n",
      "cross_val_score_ADB_cv 65.05682848922679\n"
     ]
    }
   ],
   "source": [
    "parameters={'n_estimators':range(10,15),'learning_rate':[0.1,0.2,0.3,0.5],'loss':['linear','square','exponential'] }\n",
    "ADB=AdaBoostRegressor()\n",
    "clf4=GridSearchCV(ADB,parameters)# pass model and parameter to gridsearch to get best parameter\n",
    "clf4.fit(x_train,y_train)#fit training label and target to gridsearch\n",
    "print(clf4.best_params_)# we get best parameters\n",
    "ADB=AdaBoostRegressor(learning_rate= 0.5, loss= 'linear', n_estimators= 11) # pass best parameter\n",
    "ADB.fit(x_train,y_train) #fit trainig feature and label to Ada boost model\n",
    "ADB.score(x_train,y_train) # get score of target and label training data\n",
    "pred4=ADB.predict(x_test) # we get accuracy by comparing predicted and actual output\n",
    "ADB_score=r2_score(y_test,pred4) # we get accuracy by comparing predicted and actual output\n",
    "print('ADB_score',ADB_score*100)\n",
    "ADBscore=cross_val_score(ADB,x_scaled,y,cv=5) # check CV score for Ada boost \n",
    "ADB_cv=ADBscore.mean()# get mean of cv score\n",
    "print(\"cross_val_score_ADB_cv\",ADB_cv*100)"
   ]
  },
  {
   "cell_type": "code",
   "execution_count": 49,
   "metadata": {},
   "outputs": [
    {
     "name": "stdout",
     "output_type": "stream",
     "text": [
      "{'criterion': 'mse', 'min_samples_leaf': 3, 'min_samples_split': 4, 'splitter': 'random'}\n",
      "DTR_score 62.51963918183826\n",
      "cross_val_score_DTR_cv 52.22277317594728\n"
     ]
    }
   ],
   "source": [
    "parameters={'criterion':['mse','mae','poisson'],'splitter':['best','random'],'min_samples_split':range(2,5),'min_samples_leaf':range(1,5)}\n",
    "DTR=DecisionTreeRegressor()\n",
    "clf5=GridSearchCV(DTR,parameters)# pass model and parameter to gridsearch to get best parameter\n",
    "clf5.fit(x_train,y_train)#fit training label and target to gridsearch\n",
    "print(clf5.best_params_)# we get best parameters\n",
    "DTR=DecisionTreeRegressor(criterion= 'mse', min_samples_leaf= 2, min_samples_split= 4, splitter= 'random')# pass best parameter\n",
    "DTR.fit(x_train,y_train) #fit trainig feature and label to Ada boost model\n",
    "DTR.score(x_train,y_train) # get score of target and label training data\n",
    "pred5=DTR.predict(x_test) # we get accuracy by comparing predicted and actual output\n",
    "DTR_score=r2_score(y_test,pred5) # we get accuracy by comparing predicted and actual output\n",
    "print('DTR_score',DTR_score*100)\n",
    "DTRscore=cross_val_score(DTR,x_scaled,y,cv=5)# check CV score for DTR\n",
    "DTR_cv=DTRscore.mean() # get mean of cv score\n",
    "print(\"cross_val_score_DTR_cv\",DTR_cv*100)"
   ]
  },
  {
   "cell_type": "code",
   "execution_count": 78,
   "metadata": {},
   "outputs": [
    {
     "name": "stdout",
     "output_type": "stream",
     "text": [
      "diff_linear_reg 6.3582583244596975\n",
      "diff_KNR 6.964384891012244\n",
      "diff_RFR 10.971308940561727\n",
      "diff_ADB 9.211362065261042\n",
      "diff_DTR 10.296866005890976\n"
     ]
    }
   ],
   "source": [
    "# now we will difference between accuracy score of each model and its cv_score\n",
    "\n",
    "print(\"diff_linear_reg\",lss*100-cv_mean*100) # diference of linear regression accuracy and its cv mean\n",
    "print(\"diff_KNR\",KNR_score*100-KNR_cv*100)# diference of K Neighbors regression accuracy and its cv mean\n",
    "print(\"diff_RFR\",RF_score*100-RF_cv*100)# diference of Random Forest regression accuracy and its cv mean\n",
    "print(\"diff_ADB\",ADB_score*100-ADB_cv*100) # diference of AdaBoost regression accuracy and its cv mean\n",
    "print(\"diff_DTR\",DTR_score*100-DTR_cv*100) # diference of Decision Tree regression accuracy and its cv mean"
   ]
  },
  {
   "cell_type": "markdown",
   "metadata": {},
   "source": [
    "#### here we consider only one model whose difference is less,by observing above error  i conclude that Linear Regression is best model "
   ]
  },
  {
   "cell_type": "code",
   "execution_count": 51,
   "metadata": {},
   "outputs": [
    {
     "data": {
      "text/plain": [
       "['final_regression.pkl']"
      ]
     },
     "execution_count": 51,
     "metadata": {},
     "output_type": "execute_result"
    }
   ],
   "source": [
    "# now we will save our model\n",
    "import joblib\n",
    "joblib.dump(ls,\"final_regression.pkl\")"
   ]
  },
  {
   "cell_type": "markdown",
   "metadata": {},
   "source": [
    "#### here we saved our model sucessfully"
   ]
  },
  {
   "cell_type": "code",
   "execution_count": null,
   "metadata": {},
   "outputs": [],
   "source": []
  }
 ],
 "metadata": {
  "kernelspec": {
   "display_name": "Python 3",
   "language": "python",
   "name": "python3"
  },
  "language_info": {
   "codemirror_mode": {
    "name": "ipython",
    "version": 3
   },
   "file_extension": ".py",
   "mimetype": "text/x-python",
   "name": "python",
   "nbconvert_exporter": "python",
   "pygments_lexer": "ipython3",
   "version": "3.8.5"
  }
 },
 "nbformat": 4,
 "nbformat_minor": 4
}
